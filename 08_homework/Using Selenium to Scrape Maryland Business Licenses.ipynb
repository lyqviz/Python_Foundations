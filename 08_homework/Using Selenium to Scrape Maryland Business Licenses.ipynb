{
 "cells": [
  {
   "cell_type": "markdown",
   "metadata": {},
   "source": [
    "# Scraping Maryland Business Licenses with Selenium\n",
    "\n",
    "Maryland has a [great portal](https://jportal.mdcourts.gov/license/pbPublicSearch.jsp) for searching business licenses, but the only problem is you have to check a box in order to get in.\n",
    "\n",
    "1. Try to visit [the public search page](https://jportal.mdcourts.gov/license/pbPublicSearch.jsp)\n",
    "2. Get redirected to a \"I agree to this\" page. Click that you've read the disclaimer, click Enter the Site.\n",
    "3. Click \"Search License Records\" down at the bottom of the page\n",
    "4. You're now on the search page! From the \"Jurisdiction\" dropdown, select \"Statewide\"\n",
    "5. In the \"Trade Name\" field, type \"Vap%\" to try to find vape shops\n",
    "6. Click \"Next\" in the bottom right-hand corner to go to the next page\n",
    "7. Click \"Click for detail\" to see the details for a specific business license.\n",
    "\n",
    "That's a lot of stuff! **Let's get to work.**"
   ]
  },
  {
   "cell_type": "markdown",
   "metadata": {},
   "source": [
    "## Preparation\n",
    "\n",
    "### When you search for a business license, what URL should Selenium try to visit first?"
   ]
  },
  {
   "cell_type": "code",
   "execution_count": 54,
   "metadata": {
    "collapsed": true
   },
   "outputs": [],
   "source": [
    "from selenium import webdriver\n",
    "driver = webdriver.Chrome()"
   ]
  },
  {
   "cell_type": "code",
   "execution_count": 55,
   "metadata": {
    "collapsed": true
   },
   "outputs": [],
   "source": [
    "driver.get(\"https://jportal.mdcourts.gov/license/pbPublicSearch.jsp\")"
   ]
  },
  {
   "cell_type": "markdown",
   "metadata": {},
   "source": [
    "**It isn't going to work, though! It's going to redirect to that intro page.** You can use *Incognito mode* to go back through the \"Check the box, etc\" series of pages.\n",
    "\n",
    "### How will you identify the checkbox to check it?\n",
    "\n",
    "Selenium can find elements by:\n",
    "\n",
    "- name\n",
    "- Class\n",
    "- ID\n",
    "- CSS selector (**ASK ME WHAT THIS IS** if you don't know)\n",
    "- XPath (**ASK ME WHAT THIS IS** because you definitely don't know)\n",
    "- Link text\n",
    "- Partial link text\n",
    "\n",
    "So in other words, what's unique about this element?\n",
    "\n",
    "- *TIP: I have a secret awesome way to do this, but you have to ask.*"
   ]
  },
  {
   "cell_type": "code",
   "execution_count": 56,
   "metadata": {
    "collapsed": true
   },
   "outputs": [],
   "source": [
    "checkbox = driver.find_element_by_xpath('//*[@id=\"checkbox\"]')\n",
    "checkbox.click()"
   ]
  },
  {
   "cell_type": "markdown",
   "metadata": {},
   "source": [
    "### How will you identify the button to select it, or the form to submit it?\n",
    "\n",
    "Selenium can submit forms by either\n",
    "\n",
    "- Selecting the form and using `.submit()`, or\n",
    "- Selecting the button and using `.click()`\n",
    "\n",
    "You only need to be able to get **one, not both.**"
   ]
  },
  {
   "cell_type": "code",
   "execution_count": 57,
   "metadata": {
    "collapsed": true
   },
   "outputs": [],
   "source": [
    "submit = driver.find_element_by_xpath('/html/body/table/tbody/tr[7]/td/form/div/input[2]')\n",
    "submit.click()"
   ]
  },
  {
   "cell_type": "markdown",
   "metadata": {},
   "source": [
    "### Once you're on the next page, how will you click the \"SEARCH LICENSE RECORDS\" link or follow its URL?"
   ]
  },
  {
   "cell_type": "code",
   "execution_count": 58,
   "metadata": {
    "collapsed": true
   },
   "outputs": [],
   "source": [
    "search_license_records = driver.find_element_by_xpath('/html/body/table[2]/tbody/tr[6]/td[2]/a[2]')\n",
    "search_license_records.click()"
   ]
  },
  {
   "cell_type": "markdown",
   "metadata": {},
   "source": [
    "### Now you're on the form page. How do you pick \"Statewide\" for the jurisdiction dropdown?"
   ]
  },
  {
   "cell_type": "code",
   "execution_count": 59,
   "metadata": {
    "collapsed": true
   },
   "outputs": [],
   "source": [
    "from selenium.webdriver.support.ui import Select"
   ]
  },
  {
   "cell_type": "code",
   "execution_count": 60,
   "metadata": {
    "collapsed": true
   },
   "outputs": [],
   "source": [
    "select_tag = driver.find_element_by_name('slcJurisdiction')\n",
    "select = Select(select_tag)\n",
    "select.select_by_visible_text('Statewide')"
   ]
  },
  {
   "cell_type": "markdown",
   "metadata": {},
   "source": [
    "### How do you type \"vap%\" into the Trade Name field?"
   ]
  },
  {
   "cell_type": "code",
   "execution_count": 61,
   "metadata": {
    "collapsed": true
   },
   "outputs": [],
   "source": [
    "from selenium.webdriver.common.keys import Keys"
   ]
  },
  {
   "cell_type": "code",
   "execution_count": 62,
   "metadata": {
    "collapsed": true
   },
   "outputs": [],
   "source": [
    "trade_name = driver.find_element_by_xpath('//*[@id=\"txtTradeName\"]')\n",
    "trade_name.send_keys('vap%')"
   ]
  },
  {
   "cell_type": "markdown",
   "metadata": {},
   "source": [
    "### How do you click the submit button or submit the form?"
   ]
  },
  {
   "cell_type": "code",
   "execution_count": 63,
   "metadata": {
    "collapsed": true
   },
   "outputs": [],
   "source": [
    "trade_name.send_keys(Keys.RETURN)"
   ]
  },
  {
   "cell_type": "markdown",
   "metadata": {},
   "source": [
    "### How can you find and click the 'Next' button on the search results page?"
   ]
  },
  {
   "cell_type": "code",
   "execution_count": 11,
   "metadata": {
    "collapsed": true
   },
   "outputs": [],
   "source": [
    "Next_button = driver.find_element_by_xpath('/html/body/table[2]/tbody/tr[4]/td[2]/table[2]/tbody/tr/td[3]/a/nobr')\n",
    "Next_button.click()"
   ]
  },
  {
   "cell_type": "markdown",
   "metadata": {},
   "source": [
    "# Okay, let's scrape!\n",
    "\n",
    "### Use Selenium to search for vape shops statewide, and then click through until it reaches the last page.\n",
    "\n",
    "Don't scrape yet!"
   ]
  },
  {
   "cell_type": "code",
   "execution_count": 12,
   "metadata": {
    "collapsed": true
   },
   "outputs": [],
   "source": [
    "while True:\n",
    "    try:\n",
    "        driver.find_element_by_xpath('/html/body/table[2]/tbody/tr[4]/td[2]/table[2]/tbody/tr/td[3]/a/nobr').click()\n",
    "    except:\n",
    "        break"
   ]
  },
  {
   "cell_type": "markdown",
   "metadata": {},
   "source": [
    "### Use Selenium to scrape the first page of search results for vape shops statewide (well, we'll try).\n",
    "\n",
    "- *TIP: You can find elements/text using Selenium, or use BeautifulSoup with `doc = BeautifulSoup(driver.page_source)`*\n",
    "\n",
    "I've included some BeautifulSoup code that might be helpful. If you use it, **ask me how I made it.** It's important."
   ]
  },
  {
   "cell_type": "code",
   "execution_count": 64,
   "metadata": {
    "collapsed": true
   },
   "outputs": [],
   "source": [
    "import requests\n",
    "from bs4 import BeautifulSoup\n",
    "doc = BeautifulSoup(driver.page_source, 'html.parser')"
   ]
  },
  {
   "cell_type": "code",
   "execution_count": 65,
   "metadata": {},
   "outputs": [
    {
     "data": {
      "text/plain": [
       "5"
      ]
     },
     "execution_count": 65,
     "metadata": {},
     "output_type": "execute_result"
    }
   ],
   "source": [
    "# IF YOU ARE USING BEAUTIFULSOUP, HERE IS SOME SAMPLE CODE\n",
    "# IF YOU USE THIS CODE, ASK ME HOW I MADE IT. IT'S IMPORTANT.\n",
    "business_headers = doc.find_all('tr',class_='searchfieldtitle')\n",
    "len(business_headers)"
   ]
  },
  {
   "cell_type": "code",
   "execution_count": 66,
   "metadata": {},
   "outputs": [
    {
     "name": "stdout",
     "output_type": "stream",
     "text": [
      "HEADER is 1.\n",
      "VAPE IT STORE II\n",
      "ROW 0 IS AMIN NARGIS\n",
      "Lic. Status: Issued\n",
      "ROW 1 IS 1015 S SALISBURY BLVD\n",
      "License: 22173808\n",
      "ROW 2 IS SALISBURY, MD 21801\n",
      "Issued Date: 4/27/2017\n",
      "ROW 3 IS Wicomico County\n",
      "----\n",
      "HEADER is 2.\n",
      "VAPE IT STORE I\n",
      "ROW 0 IS AMIN NARGIS\n",
      "Lic. Status: Issued\n",
      "ROW 1 IS 1724 N SALISBURY BLVD UNIT 2\n",
      "License: 22173807\n",
      "ROW 2 IS SALISBURY, MD 21801\n",
      "Issued Date: 4/27/2017\n",
      "ROW 3 IS Wicomico County\n",
      "----\n",
      "HEADER is 3.\n",
      "VAPEPAD THE\n",
      "ROW 0 IS ANJ DISTRIBUTIONS LLC\n",
      "Lic. Status: Issued\n",
      "ROW 1 IS 2299 JOHNS HOPKINS ROAD\n",
      "License: 02104436\n",
      "ROW 2 IS GAMBRILLS, MD 21054\n",
      "Issued Date: 4/05/2017\n",
      "ROW 3 IS Anne Arundel County\n",
      "----\n",
      "HEADER is 4.\n",
      "VAPE FROG\n",
      "ROW 0 IS COX TRADING COMPANY L L C\n",
      "Lic. Status: Issued\n",
      "ROW 1 IS 110 S. PINEY RD\n",
      "License: 17165957\n",
      "ROW 2 IS CHESTER, MD 21619\n",
      "Issued Date: 5/31/2017\n",
      "ROW 3 IS Queen Anne's County\n",
      "----\n",
      "HEADER is 5.\n",
      "VAPE FROG\n",
      "Pending *\n",
      "ROW 0 IS COX TRADING LLC\n",
      "Lic. Status: Pending\n",
      "ROW 1 IS 346 RITCHIE HIGHWAY\n",
      "ROW 2 IS SEVERNA PARK, MD 21146\n",
      "ROW 3 IS Anne Arundel County\n",
      "----\n"
     ]
    }
   ],
   "source": [
    "# You'll probably need to find specific tds inside\n",
    "# of the rows instead of looking at the whole thing.\n",
    "for header in business_headers:\n",
    "    rows = header.find_next_siblings('tr')\n",
    "    print(\"HEADER is\", header.text.strip())\n",
    "    print(\"ROW 0 IS\", rows[0].text.strip())\n",
    "    print(\"ROW 1 IS\", rows[1].text.strip())\n",
    "    print(\"ROW 2 IS\", rows[2].text.strip())\n",
    "    print(\"ROW 3 IS\", rows[3].text.strip())\n",
    "    print(\"----\")"
   ]
  },
  {
   "cell_type": "code",
   "execution_count": 67,
   "metadata": {},
   "outputs": [
    {
     "name": "stdout",
     "output_type": "stream",
     "text": [
      "[{'License': '22173808', 'HEADER': '', 'address': '1015 S SALISBURY BLVD', 'Issued Date': '4/27/2017', 'post': 'SALISBURY, MD 21801', 'Lic. Status': 'Issued', 'county': 'Wicomico County', 'name': 'AMIN NARGIS'}, {'License': '22173807', 'HEADER': '', 'address': '1724 N SALISBURY BLVD UNIT 2', 'Issued Date': '4/27/2017', 'post': 'SALISBURY, MD 21801', 'Lic. Status': 'Issued', 'county': 'Wicomico County', 'name': 'AMIN NARGIS'}, {'License': '02104436', 'HEADER': '', 'address': '2299 JOHNS HOPKINS ROAD', 'Issued Date': '4/05/2017', 'post': 'GAMBRILLS, MD 21054', 'Lic. Status': 'Issued', 'county': 'Anne Arundel County', 'name': 'ANJ DISTRIBUTIONS LLC'}, {'License': '17165957', 'HEADER': '', 'address': '110 S. PINEY RD', 'Issued Date': '5/31/2017', 'post': 'CHESTER, MD 21619', 'Lic. Status': 'Issued', 'county': \"Queen Anne's County\", 'name': 'COX TRADING COMPANY L L C'}, {'License': [''], 'HEADER': 'Pending *', 'address': '346 RITCHIE HIGHWAY', 'Issued Date': [''], 'post': 'SEVERNA PARK, MD 21146', 'Lic. Status': 'Pending', 'county': 'Anne Arundel County', 'name': 'COX TRADING LLC'}]\n"
     ]
    }
   ],
   "source": [
    "vape_results = []\n",
    "business_headers = doc.find_all('tr',class_='searchfieldtitle')\n",
    "for header in business_headers:\n",
    "    rows = header.find_next_siblings('tr')\n",
    "    header1 = header.find_all('td')[1].text.strip()\n",
    "    name = rows[0].find_all('td')[1].text.strip()\n",
    "    address = rows[1].find_all('td')[1].text.strip()\n",
    "    post = rows[2].find_all('td')[1].text.strip()\n",
    "    county = rows[3].text.strip()\n",
    " \n",
    "    \n",
    "    HEADER = header.find_all('td')[2].text.strip()\n",
    "    Lic_Status =  rows[0].find_all('td')[2].text.strip()\n",
    "    License = rows[1].find_all('td')[2].text.strip()\n",
    "    Issued_Date = rows[2].find_all('td')[2].text.strip()\n",
    "    \n",
    "    Lic_Status = Lic_Status.split(':')\n",
    "    if len(Lic_Status) > 1:\n",
    "        Lic_Status = Lic_Status[1].strip()\n",
    "   \n",
    "    License = License.split(':')\n",
    "    if len(License) > 1:\n",
    "        License = License[1].strip()\n",
    "    \n",
    "    Issued_Date = Issued_Date.split(':')\n",
    "    if len(Issued_Date) > 1:\n",
    "        Issued_Date = Issued_Date[1].strip()\n",
    "        \n",
    "    vape_results.append({\n",
    "        'HEADER': header,\n",
    "        'name': name,\n",
    "        'address': address,\n",
    "        'post': post,\n",
    "        'county': county,\n",
    "        'HEADER': HEADER,\n",
    "        'Lic. Status': Lic_Status,\n",
    "        'License': License,\n",
    "        'Issued Date': Issued_Date\n",
    "})\n",
    "print(vape_results)"
   ]
  },
  {
   "cell_type": "markdown",
   "metadata": {},
   "source": [
    "### Save these into `vape-results.csv`"
   ]
  },
  {
   "cell_type": "code",
   "execution_count": 68,
   "metadata": {
    "collapsed": true
   },
   "outputs": [],
   "source": [
    "import pandas as pd"
   ]
  },
  {
   "cell_type": "code",
   "execution_count": 69,
   "metadata": {
    "collapsed": true
   },
   "outputs": [],
   "source": [
    "df = pd.DataFrame(vape_results)\n",
    "df.to_csv('vape_results.csv', index=False)"
   ]
  },
  {
   "cell_type": "markdown",
   "metadata": {},
   "source": [
    "### Open `vape-results.csv` to make sure there aren't any extra weird columns"
   ]
  },
  {
   "cell_type": "code",
   "execution_count": 70,
   "metadata": {},
   "outputs": [
    {
     "data": {
      "text/html": [
       "<div>\n",
       "<style>\n",
       "    .dataframe thead tr:only-child th {\n",
       "        text-align: right;\n",
       "    }\n",
       "\n",
       "    .dataframe thead th {\n",
       "        text-align: left;\n",
       "    }\n",
       "\n",
       "    .dataframe tbody tr th {\n",
       "        vertical-align: top;\n",
       "    }\n",
       "</style>\n",
       "<table border=\"1\" class=\"dataframe\">\n",
       "  <thead>\n",
       "    <tr style=\"text-align: right;\">\n",
       "      <th></th>\n",
       "      <th>HEADER</th>\n",
       "      <th>Issued Date</th>\n",
       "      <th>Lic. Status</th>\n",
       "      <th>License</th>\n",
       "      <th>address</th>\n",
       "      <th>county</th>\n",
       "      <th>name</th>\n",
       "      <th>post</th>\n",
       "    </tr>\n",
       "  </thead>\n",
       "  <tbody>\n",
       "    <tr>\n",
       "      <th>0</th>\n",
       "      <td>NaN</td>\n",
       "      <td>4/27/2017</td>\n",
       "      <td>Issued</td>\n",
       "      <td>22173808</td>\n",
       "      <td>1015 S SALISBURY BLVD</td>\n",
       "      <td>Wicomico County</td>\n",
       "      <td>AMIN NARGIS</td>\n",
       "      <td>SALISBURY, MD 21801</td>\n",
       "    </tr>\n",
       "    <tr>\n",
       "      <th>1</th>\n",
       "      <td>NaN</td>\n",
       "      <td>4/27/2017</td>\n",
       "      <td>Issued</td>\n",
       "      <td>22173807</td>\n",
       "      <td>1724 N SALISBURY BLVD UNIT 2</td>\n",
       "      <td>Wicomico County</td>\n",
       "      <td>AMIN NARGIS</td>\n",
       "      <td>SALISBURY, MD 21801</td>\n",
       "    </tr>\n",
       "    <tr>\n",
       "      <th>2</th>\n",
       "      <td>NaN</td>\n",
       "      <td>4/05/2017</td>\n",
       "      <td>Issued</td>\n",
       "      <td>02104436</td>\n",
       "      <td>2299 JOHNS HOPKINS ROAD</td>\n",
       "      <td>Anne Arundel County</td>\n",
       "      <td>ANJ DISTRIBUTIONS LLC</td>\n",
       "      <td>GAMBRILLS, MD 21054</td>\n",
       "    </tr>\n",
       "    <tr>\n",
       "      <th>3</th>\n",
       "      <td>NaN</td>\n",
       "      <td>5/31/2017</td>\n",
       "      <td>Issued</td>\n",
       "      <td>17165957</td>\n",
       "      <td>110 S. PINEY RD</td>\n",
       "      <td>Queen Anne's County</td>\n",
       "      <td>COX TRADING COMPANY L L C</td>\n",
       "      <td>CHESTER, MD 21619</td>\n",
       "    </tr>\n",
       "    <tr>\n",
       "      <th>4</th>\n",
       "      <td>Pending *</td>\n",
       "      <td>['']</td>\n",
       "      <td>Pending</td>\n",
       "      <td>['']</td>\n",
       "      <td>346 RITCHIE HIGHWAY</td>\n",
       "      <td>Anne Arundel County</td>\n",
       "      <td>COX TRADING LLC</td>\n",
       "      <td>SEVERNA PARK, MD 21146</td>\n",
       "    </tr>\n",
       "  </tbody>\n",
       "</table>\n",
       "</div>"
      ],
      "text/plain": [
       "      HEADER Issued Date Lic. Status   License                       address  \\\n",
       "0        NaN   4/27/2017      Issued  22173808         1015 S SALISBURY BLVD   \n",
       "1        NaN   4/27/2017      Issued  22173807  1724 N SALISBURY BLVD UNIT 2   \n",
       "2        NaN   4/05/2017      Issued  02104436       2299 JOHNS HOPKINS ROAD   \n",
       "3        NaN   5/31/2017      Issued  17165957               110 S. PINEY RD   \n",
       "4  Pending *        ['']     Pending      ['']           346 RITCHIE HIGHWAY   \n",
       "\n",
       "                county                       name                    post  \n",
       "0      Wicomico County                AMIN NARGIS     SALISBURY, MD 21801  \n",
       "1      Wicomico County                AMIN NARGIS     SALISBURY, MD 21801  \n",
       "2  Anne Arundel County      ANJ DISTRIBUTIONS LLC     GAMBRILLS, MD 21054  \n",
       "3  Queen Anne's County  COX TRADING COMPANY L L C       CHESTER, MD 21619  \n",
       "4  Anne Arundel County            COX TRADING LLC  SEVERNA PARK, MD 21146  "
      ]
     },
     "execution_count": 70,
     "metadata": {},
     "output_type": "execute_result"
    }
   ],
   "source": [
    "pd.read_csv('vape_results.csv')"
   ]
  },
  {
   "cell_type": "markdown",
   "metadata": {},
   "source": [
    "## Use Selenium to scrape ALL pages of results, save the results into `vape-results-all.csv`."
   ]
  },
  {
   "cell_type": "code",
   "execution_count": null,
   "metadata": {
    "collapsed": true
   },
   "outputs": [],
   "source": [
    "while True:\n",
    "    doc = BeautifulSoup(driver.page_source, 'html.parser')\n",
    "    vape_results = []\n",
    "    business_headers = doc.find_all('tr',class_='searchfieldtitle')\n",
    "    for header in business_headers:\n",
    "        rows = header.find_next_siblings('tr')\n",
    "        header1 = header.find_all('td')[1].text.strip()\n",
    "        name = rows[0].find_all('td')[1].text.strip()\n",
    "        address = rows[1].find_all('td')[1].text.strip()\n",
    "        post = rows[2].find_all('td')[1].text.strip()\n",
    "        county = rows[3].text.strip()\n",
    " \n",
    "        HEADER = header.find_all('td')[2].text.strip()\n",
    "        Lic_Status =  rows[0].find_all('td')[2].text.strip()\n",
    "        License = rows[1].find_all('td')[2].text.strip()\n",
    "        Issued_Date = rows[2].find_all('td')[2].text.strip()\n",
    "    \n",
    "        Lic_Status = Lic_Status.split(':')\n",
    "        if len(Lic_Status) > 1:\n",
    "            Lic_Status = Lic_Status[1].strip()\n",
    "   \n",
    "        License = License.split(':')\n",
    "        if len(License) > 1:\n",
    "            License = License[1].strip()\n",
    "    \n",
    "        Issued_Date = Issued_Date.split(':')\n",
    "        if len(Issued_Date) > 1:\n",
    "            Issued_Date = Issued_Date[1].strip()\n",
    "        \n",
    "        vape_results.append({\n",
    "            'HEADER': header,\n",
    "            'name': name,\n",
    "            'address': address,\n",
    "            'post': post,\n",
    "            'county': county,\n",
    "            'HEADER': HEADER,\n",
    "            'Lic. Status': Lic_Status,\n",
    "            'License': License,\n",
    "            'Issued Date': Issued_Date\n",
    "    })\n",
    "    print(vape_results)\n",
    "    try:\n",
    "        driver.find_element_by_xpath('/html/body/table[2]/tbody/tr[4]/td[2]/table[2]/tbody/tr/td[3]/a/nobr').click()\n",
    "    except:\n",
    "        break"
   ]
  },
  {
   "cell_type": "code",
   "execution_count": null,
   "metadata": {
    "collapsed": true
   },
   "outputs": [],
   "source": [
    "df = pd.DataFrame(licenses)\n",
    "df.to_csv('vape_all.csv', index=False)\n",
    "pd.read_csv('vape_all.csv')"
   ]
  }
 ],
 "metadata": {
  "kernelspec": {
   "display_name": "Python 3",
   "language": "python",
   "name": "python3"
  },
  "language_info": {
   "codemirror_mode": {
    "name": "ipython",
    "version": 3
   },
   "file_extension": ".py",
   "mimetype": "text/x-python",
   "name": "python",
   "nbconvert_exporter": "python",
   "pygments_lexer": "ipython3",
   "version": "3.6.1"
  }
 },
 "nbformat": 4,
 "nbformat_minor": 2
}
