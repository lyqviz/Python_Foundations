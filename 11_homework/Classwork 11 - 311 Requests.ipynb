{
 "cells": [
  {
   "cell_type": "markdown",
   "metadata": {},
   "source": [
    "# Exercise: 311 Requests\n",
    "\n",
    "#### Summary\n",
    "\n",
    "In NYC, you can call 311 with *anything* about the city - questions, complaints, etc. We'll be analyzing requests from 2015-2016 from the Department of Transportation and NYPD.\n",
    "\n",
    "#### Data Source(s)\n",
    "\n",
    "Filtered from full set, https://nycopendata.socrata.com/Social-Services/311-Service-Requests-from-2010-to-Present/erm2-nwe9\n",
    "\n",
    "#### Files\n",
    "\n",
    "- `311-requests/311_Service_Requests_from_2010_to_Present.csv`, about 1.8 million rows (over 1GB of data)\n",
    "\n",
    "#### Data dictionary\n",
    "\n",
    "Visit [this page](https://nycopendata.socrata.com/Social-Services/311-Service-Requests-from-2010-to-Present/erm2-nwe9#schema-preview) and click 'Show more' on the bottom right of the list (53 columns).\n",
    "\n",
    "#### Skills\n",
    "\n",
    "- Opening large files\n",
    "- Time"
   ]
  },
  {
   "cell_type": "markdown",
   "metadata": {},
   "source": [
    "## Opening the file\n",
    "\n",
    "It's a big one! If your computer is slow or you only have 2GB of RAM, you might want to specify `nrows=50000` (or less). Increase the number until it takes around 20 seconds, maybe!"
   ]
  },
  {
   "cell_type": "code",
   "execution_count": 28,
   "metadata": {
    "collapsed": true
   },
   "outputs": [],
   "source": [
    "%matplotlib inline\n",
    "import pandas as pd"
   ]
  },
  {
   "cell_type": "code",
   "execution_count": 29,
   "metadata": {},
   "outputs": [
    {
     "name": "stderr",
     "output_type": "stream",
     "text": [
      "/usr/local/lib/python3.6/site-packages/IPython/core/interactiveshell.py:2698: DtypeWarning: Columns (17,47) have mixed types. Specify dtype option on import or set low_memory=False.\n",
      "  interactivity=interactivity, compiler=compiler, result=result)\n"
     ]
    },
    {
     "data": {
      "text/html": [
       "<div>\n",
       "<style>\n",
       "    .dataframe thead tr:only-child th {\n",
       "        text-align: right;\n",
       "    }\n",
       "\n",
       "    .dataframe thead th {\n",
       "        text-align: left;\n",
       "    }\n",
       "\n",
       "    .dataframe tbody tr th {\n",
       "        vertical-align: top;\n",
       "    }\n",
       "</style>\n",
       "<table border=\"1\" class=\"dataframe\">\n",
       "  <thead>\n",
       "    <tr style=\"text-align: right;\">\n",
       "      <th></th>\n",
       "      <th>Unique Key</th>\n",
       "      <th>Created Date</th>\n",
       "      <th>Closed Date</th>\n",
       "      <th>Agency</th>\n",
       "      <th>Agency Name</th>\n",
       "      <th>Complaint Type</th>\n",
       "      <th>Descriptor</th>\n",
       "      <th>Location Type</th>\n",
       "      <th>Incident Zip</th>\n",
       "      <th>Incident Address</th>\n",
       "      <th>Street Name</th>\n",
       "      <th>Cross Street 1</th>\n",
       "      <th>Cross Street 2</th>\n",
       "      <th>Intersection Street 1</th>\n",
       "      <th>Intersection Street 2</th>\n",
       "      <th>Address Type</th>\n",
       "      <th>City</th>\n",
       "      <th>Landmark</th>\n",
       "      <th>Facility Type</th>\n",
       "      <th>Status</th>\n",
       "      <th>Due Date</th>\n",
       "      <th>Resolution Description</th>\n",
       "      <th>Resolution Action Updated Date</th>\n",
       "      <th>Community Board</th>\n",
       "      <th>Borough</th>\n",
       "      <th>X Coordinate (State Plane)</th>\n",
       "      <th>Y Coordinate (State Plane)</th>\n",
       "      <th>Park Facility Name</th>\n",
       "      <th>Park Borough</th>\n",
       "      <th>School Name</th>\n",
       "      <th>School Number</th>\n",
       "      <th>School Region</th>\n",
       "      <th>School Code</th>\n",
       "      <th>School Phone Number</th>\n",
       "      <th>School Address</th>\n",
       "      <th>School City</th>\n",
       "      <th>School State</th>\n",
       "      <th>School Zip</th>\n",
       "      <th>School Not Found</th>\n",
       "      <th>School or Citywide Complaint</th>\n",
       "      <th>Vehicle Type</th>\n",
       "      <th>Taxi Company Borough</th>\n",
       "      <th>Taxi Pick Up Location</th>\n",
       "      <th>Bridge Highway Name</th>\n",
       "      <th>Bridge Highway Direction</th>\n",
       "      <th>Road Ramp</th>\n",
       "      <th>Bridge Highway Segment</th>\n",
       "      <th>Garage Lot Name</th>\n",
       "      <th>Ferry Direction</th>\n",
       "      <th>Ferry Terminal Name</th>\n",
       "      <th>Latitude</th>\n",
       "      <th>Longitude</th>\n",
       "      <th>Location</th>\n",
       "    </tr>\n",
       "  </thead>\n",
       "  <tbody>\n",
       "    <tr>\n",
       "      <th>0</th>\n",
       "      <td>31463990</td>\n",
       "      <td>09/04/2015 10:55:25 PM</td>\n",
       "      <td>09/05/2015 02:06:54 AM</td>\n",
       "      <td>NYPD</td>\n",
       "      <td>New York City Police Department</td>\n",
       "      <td>Noise - Street/Sidewalk</td>\n",
       "      <td>Loud Music/Party</td>\n",
       "      <td>Street/Sidewalk</td>\n",
       "      <td>10460.0</td>\n",
       "      <td>1110 WYATT STREET</td>\n",
       "      <td>WYATT STREET</td>\n",
       "      <td>DEVOE AVENUE</td>\n",
       "      <td>BRONX PARK AVENUE</td>\n",
       "      <td>NaN</td>\n",
       "      <td>NaN</td>\n",
       "      <td>ADDRESS</td>\n",
       "      <td>BRONX</td>\n",
       "      <td>NaN</td>\n",
       "      <td>Precinct</td>\n",
       "      <td>Closed</td>\n",
       "      <td>09/05/2015 06:55:25 AM</td>\n",
       "      <td>The Police Department responded and upon arriv...</td>\n",
       "      <td>09/05/2015 02:06:54 AM</td>\n",
       "      <td>06 BRONX</td>\n",
       "      <td>BRONX</td>\n",
       "      <td>1018201.0</td>\n",
       "      <td>245083.0</td>\n",
       "      <td>Unspecified</td>\n",
       "      <td>BRONX</td>\n",
       "      <td>Unspecified</td>\n",
       "      <td>Unspecified</td>\n",
       "      <td>Unspecified</td>\n",
       "      <td>Unspecified</td>\n",
       "      <td>Unspecified</td>\n",
       "      <td>Unspecified</td>\n",
       "      <td>Unspecified</td>\n",
       "      <td>Unspecified</td>\n",
       "      <td>Unspecified</td>\n",
       "      <td>N</td>\n",
       "      <td>NaN</td>\n",
       "      <td>NaN</td>\n",
       "      <td>NaN</td>\n",
       "      <td>NaN</td>\n",
       "      <td>NaN</td>\n",
       "      <td>NaN</td>\n",
       "      <td>NaN</td>\n",
       "      <td>NaN</td>\n",
       "      <td>NaN</td>\n",
       "      <td>NaN</td>\n",
       "      <td>NaN</td>\n",
       "      <td>40.839306</td>\n",
       "      <td>-73.877301</td>\n",
       "      <td>(40.83930620730105, -73.8773009180668)</td>\n",
       "    </tr>\n",
       "    <tr>\n",
       "      <th>1</th>\n",
       "      <td>31463991</td>\n",
       "      <td>09/04/2015 01:53:45 PM</td>\n",
       "      <td>09/04/2015 06:37:24 PM</td>\n",
       "      <td>NYPD</td>\n",
       "      <td>New York City Police Department</td>\n",
       "      <td>Noise - Street/Sidewalk</td>\n",
       "      <td>Loud Music/Party</td>\n",
       "      <td>Street/Sidewalk</td>\n",
       "      <td>10031.0</td>\n",
       "      <td>NaN</td>\n",
       "      <td>NaN</td>\n",
       "      <td>NaN</td>\n",
       "      <td>NaN</td>\n",
       "      <td>WEST  151 STREET</td>\n",
       "      <td>BROADWAY</td>\n",
       "      <td>INTERSECTION</td>\n",
       "      <td>NEW YORK</td>\n",
       "      <td>NaN</td>\n",
       "      <td>Precinct</td>\n",
       "      <td>Closed</td>\n",
       "      <td>09/04/2015 09:53:45 PM</td>\n",
       "      <td>The Police Department responded to the complai...</td>\n",
       "      <td>09/04/2015 06:37:24 PM</td>\n",
       "      <td>09 MANHATTAN</td>\n",
       "      <td>MANHATTAN</td>\n",
       "      <td>998728.0</td>\n",
       "      <td>241754.0</td>\n",
       "      <td>Unspecified</td>\n",
       "      <td>MANHATTAN</td>\n",
       "      <td>Unspecified</td>\n",
       "      <td>Unspecified</td>\n",
       "      <td>Unspecified</td>\n",
       "      <td>Unspecified</td>\n",
       "      <td>Unspecified</td>\n",
       "      <td>Unspecified</td>\n",
       "      <td>Unspecified</td>\n",
       "      <td>Unspecified</td>\n",
       "      <td>Unspecified</td>\n",
       "      <td>N</td>\n",
       "      <td>NaN</td>\n",
       "      <td>NaN</td>\n",
       "      <td>NaN</td>\n",
       "      <td>NaN</td>\n",
       "      <td>NaN</td>\n",
       "      <td>NaN</td>\n",
       "      <td>NaN</td>\n",
       "      <td>NaN</td>\n",
       "      <td>NaN</td>\n",
       "      <td>NaN</td>\n",
       "      <td>NaN</td>\n",
       "      <td>40.830222</td>\n",
       "      <td>-73.947684</td>\n",
       "      <td>(40.830222460372724, -73.94768359377827)</td>\n",
       "    </tr>\n",
       "    <tr>\n",
       "      <th>2</th>\n",
       "      <td>31463992</td>\n",
       "      <td>09/04/2015 09:15:43 PM</td>\n",
       "      <td>09/04/2015 10:32:01 PM</td>\n",
       "      <td>NYPD</td>\n",
       "      <td>New York City Police Department</td>\n",
       "      <td>Noise - Street/Sidewalk</td>\n",
       "      <td>Loud Music/Party</td>\n",
       "      <td>Street/Sidewalk</td>\n",
       "      <td>10031.0</td>\n",
       "      <td>545 WEST 144 STREET</td>\n",
       "      <td>WEST 144 STREET</td>\n",
       "      <td>AMSTERDAM AVENUE</td>\n",
       "      <td>BROADWAY</td>\n",
       "      <td>NaN</td>\n",
       "      <td>NaN</td>\n",
       "      <td>ADDRESS</td>\n",
       "      <td>NEW YORK</td>\n",
       "      <td>NaN</td>\n",
       "      <td>Precinct</td>\n",
       "      <td>Closed</td>\n",
       "      <td>09/05/2015 05:15:43 AM</td>\n",
       "      <td>The Police Department responded to the complai...</td>\n",
       "      <td>09/04/2015 10:32:02 PM</td>\n",
       "      <td>09 MANHATTAN</td>\n",
       "      <td>MANHATTAN</td>\n",
       "      <td>998263.0</td>\n",
       "      <td>239889.0</td>\n",
       "      <td>Unspecified</td>\n",
       "      <td>MANHATTAN</td>\n",
       "      <td>Unspecified</td>\n",
       "      <td>Unspecified</td>\n",
       "      <td>Unspecified</td>\n",
       "      <td>Unspecified</td>\n",
       "      <td>Unspecified</td>\n",
       "      <td>Unspecified</td>\n",
       "      <td>Unspecified</td>\n",
       "      <td>Unspecified</td>\n",
       "      <td>Unspecified</td>\n",
       "      <td>N</td>\n",
       "      <td>NaN</td>\n",
       "      <td>NaN</td>\n",
       "      <td>NaN</td>\n",
       "      <td>NaN</td>\n",
       "      <td>NaN</td>\n",
       "      <td>NaN</td>\n",
       "      <td>NaN</td>\n",
       "      <td>NaN</td>\n",
       "      <td>NaN</td>\n",
       "      <td>NaN</td>\n",
       "      <td>NaN</td>\n",
       "      <td>40.825104</td>\n",
       "      <td>-73.949368</td>\n",
       "      <td>(40.825104318551325, -73.94936777115372)</td>\n",
       "    </tr>\n",
       "    <tr>\n",
       "      <th>3</th>\n",
       "      <td>31463993</td>\n",
       "      <td>09/05/2015 01:06:57 AM</td>\n",
       "      <td>09/05/2015 02:26:43 AM</td>\n",
       "      <td>NYPD</td>\n",
       "      <td>New York City Police Department</td>\n",
       "      <td>Noise - Commercial</td>\n",
       "      <td>Loud Music/Party</td>\n",
       "      <td>Club/Bar/Restaurant</td>\n",
       "      <td>11203.0</td>\n",
       "      <td>UTICA AVENUE</td>\n",
       "      <td>UTICA AVENUE</td>\n",
       "      <td>AVENUE D</td>\n",
       "      <td>FOSTER AVENUE</td>\n",
       "      <td>NaN</td>\n",
       "      <td>NaN</td>\n",
       "      <td>BLOCKFACE</td>\n",
       "      <td>BROOKLYN</td>\n",
       "      <td>NaN</td>\n",
       "      <td>Precinct</td>\n",
       "      <td>Closed</td>\n",
       "      <td>09/05/2015 09:06:57 AM</td>\n",
       "      <td>The Police Department responded to the complai...</td>\n",
       "      <td>09/05/2015 02:26:44 AM</td>\n",
       "      <td>17 BROOKLYN</td>\n",
       "      <td>BROOKLYN</td>\n",
       "      <td>1003890.0</td>\n",
       "      <td>172805.0</td>\n",
       "      <td>Unspecified</td>\n",
       "      <td>BROOKLYN</td>\n",
       "      <td>Unspecified</td>\n",
       "      <td>Unspecified</td>\n",
       "      <td>Unspecified</td>\n",
       "      <td>Unspecified</td>\n",
       "      <td>Unspecified</td>\n",
       "      <td>Unspecified</td>\n",
       "      <td>Unspecified</td>\n",
       "      <td>Unspecified</td>\n",
       "      <td>Unspecified</td>\n",
       "      <td>N</td>\n",
       "      <td>NaN</td>\n",
       "      <td>NaN</td>\n",
       "      <td>NaN</td>\n",
       "      <td>NaN</td>\n",
       "      <td>NaN</td>\n",
       "      <td>NaN</td>\n",
       "      <td>NaN</td>\n",
       "      <td>NaN</td>\n",
       "      <td>NaN</td>\n",
       "      <td>NaN</td>\n",
       "      <td>NaN</td>\n",
       "      <td>40.640965</td>\n",
       "      <td>-73.929232</td>\n",
       "      <td>(40.64096464471428, -73.92923194083798)</td>\n",
       "    </tr>\n",
       "    <tr>\n",
       "      <th>4</th>\n",
       "      <td>31463995</td>\n",
       "      <td>09/04/2015 07:48:25 AM</td>\n",
       "      <td>09/04/2015 05:21:18 PM</td>\n",
       "      <td>NYPD</td>\n",
       "      <td>New York City Police Department</td>\n",
       "      <td>Illegal Parking</td>\n",
       "      <td>Overnight Commercial Storage</td>\n",
       "      <td>Street/Sidewalk</td>\n",
       "      <td>11210.0</td>\n",
       "      <td>GLENWOOD ROAD</td>\n",
       "      <td>GLENWOOD ROAD</td>\n",
       "      <td>BROOKLYN AVENUE</td>\n",
       "      <td>EAST 37 STREET</td>\n",
       "      <td>NaN</td>\n",
       "      <td>NaN</td>\n",
       "      <td>BLOCKFACE</td>\n",
       "      <td>BROOKLYN</td>\n",
       "      <td>NaN</td>\n",
       "      <td>Precinct</td>\n",
       "      <td>Closed</td>\n",
       "      <td>09/04/2015 03:48:25 PM</td>\n",
       "      <td>The Police Department responded to the complai...</td>\n",
       "      <td>09/04/2015 05:21:19 PM</td>\n",
       "      <td>17 BROOKLYN</td>\n",
       "      <td>BROOKLYN</td>\n",
       "      <td>1000480.0</td>\n",
       "      <td>170405.0</td>\n",
       "      <td>Unspecified</td>\n",
       "      <td>BROOKLYN</td>\n",
       "      <td>Unspecified</td>\n",
       "      <td>Unspecified</td>\n",
       "      <td>Unspecified</td>\n",
       "      <td>Unspecified</td>\n",
       "      <td>Unspecified</td>\n",
       "      <td>Unspecified</td>\n",
       "      <td>Unspecified</td>\n",
       "      <td>Unspecified</td>\n",
       "      <td>Unspecified</td>\n",
       "      <td>N</td>\n",
       "      <td>NaN</td>\n",
       "      <td>NaN</td>\n",
       "      <td>NaN</td>\n",
       "      <td>NaN</td>\n",
       "      <td>NaN</td>\n",
       "      <td>NaN</td>\n",
       "      <td>NaN</td>\n",
       "      <td>NaN</td>\n",
       "      <td>NaN</td>\n",
       "      <td>NaN</td>\n",
       "      <td>NaN</td>\n",
       "      <td>40.634384</td>\n",
       "      <td>-73.941525</td>\n",
       "      <td>(40.63438406330588, -73.9415248319131)</td>\n",
       "    </tr>\n",
       "  </tbody>\n",
       "</table>\n",
       "</div>"
      ],
      "text/plain": [
       "   Unique Key            Created Date             Closed Date Agency  \\\n",
       "0    31463990  09/04/2015 10:55:25 PM  09/05/2015 02:06:54 AM   NYPD   \n",
       "1    31463991  09/04/2015 01:53:45 PM  09/04/2015 06:37:24 PM   NYPD   \n",
       "2    31463992  09/04/2015 09:15:43 PM  09/04/2015 10:32:01 PM   NYPD   \n",
       "3    31463993  09/05/2015 01:06:57 AM  09/05/2015 02:26:43 AM   NYPD   \n",
       "4    31463995  09/04/2015 07:48:25 AM  09/04/2015 05:21:18 PM   NYPD   \n",
       "\n",
       "                       Agency Name           Complaint Type  \\\n",
       "0  New York City Police Department  Noise - Street/Sidewalk   \n",
       "1  New York City Police Department  Noise - Street/Sidewalk   \n",
       "2  New York City Police Department  Noise - Street/Sidewalk   \n",
       "3  New York City Police Department       Noise - Commercial   \n",
       "4  New York City Police Department          Illegal Parking   \n",
       "\n",
       "                     Descriptor        Location Type  Incident Zip  \\\n",
       "0              Loud Music/Party      Street/Sidewalk       10460.0   \n",
       "1              Loud Music/Party      Street/Sidewalk       10031.0   \n",
       "2              Loud Music/Party      Street/Sidewalk       10031.0   \n",
       "3              Loud Music/Party  Club/Bar/Restaurant       11203.0   \n",
       "4  Overnight Commercial Storage      Street/Sidewalk       11210.0   \n",
       "\n",
       "      Incident Address      Street Name    Cross Street 1     Cross Street 2  \\\n",
       "0    1110 WYATT STREET     WYATT STREET      DEVOE AVENUE  BRONX PARK AVENUE   \n",
       "1                  NaN              NaN               NaN                NaN   \n",
       "2  545 WEST 144 STREET  WEST 144 STREET  AMSTERDAM AVENUE           BROADWAY   \n",
       "3         UTICA AVENUE     UTICA AVENUE          AVENUE D      FOSTER AVENUE   \n",
       "4        GLENWOOD ROAD    GLENWOOD ROAD   BROOKLYN AVENUE     EAST 37 STREET   \n",
       "\n",
       "  Intersection Street 1 Intersection Street 2  Address Type      City  \\\n",
       "0                   NaN                   NaN       ADDRESS     BRONX   \n",
       "1      WEST  151 STREET              BROADWAY  INTERSECTION  NEW YORK   \n",
       "2                   NaN                   NaN       ADDRESS  NEW YORK   \n",
       "3                   NaN                   NaN     BLOCKFACE  BROOKLYN   \n",
       "4                   NaN                   NaN     BLOCKFACE  BROOKLYN   \n",
       "\n",
       "  Landmark Facility Type  Status                Due Date  \\\n",
       "0      NaN      Precinct  Closed  09/05/2015 06:55:25 AM   \n",
       "1      NaN      Precinct  Closed  09/04/2015 09:53:45 PM   \n",
       "2      NaN      Precinct  Closed  09/05/2015 05:15:43 AM   \n",
       "3      NaN      Precinct  Closed  09/05/2015 09:06:57 AM   \n",
       "4      NaN      Precinct  Closed  09/04/2015 03:48:25 PM   \n",
       "\n",
       "                              Resolution Description  \\\n",
       "0  The Police Department responded and upon arriv...   \n",
       "1  The Police Department responded to the complai...   \n",
       "2  The Police Department responded to the complai...   \n",
       "3  The Police Department responded to the complai...   \n",
       "4  The Police Department responded to the complai...   \n",
       "\n",
       "  Resolution Action Updated Date Community Board    Borough  \\\n",
       "0         09/05/2015 02:06:54 AM        06 BRONX      BRONX   \n",
       "1         09/04/2015 06:37:24 PM    09 MANHATTAN  MANHATTAN   \n",
       "2         09/04/2015 10:32:02 PM    09 MANHATTAN  MANHATTAN   \n",
       "3         09/05/2015 02:26:44 AM     17 BROOKLYN   BROOKLYN   \n",
       "4         09/04/2015 05:21:19 PM     17 BROOKLYN   BROOKLYN   \n",
       "\n",
       "   X Coordinate (State Plane)  Y Coordinate (State Plane) Park Facility Name  \\\n",
       "0                   1018201.0                    245083.0        Unspecified   \n",
       "1                    998728.0                    241754.0        Unspecified   \n",
       "2                    998263.0                    239889.0        Unspecified   \n",
       "3                   1003890.0                    172805.0        Unspecified   \n",
       "4                   1000480.0                    170405.0        Unspecified   \n",
       "\n",
       "  Park Borough  School Name School Number School Region  School Code  \\\n",
       "0        BRONX  Unspecified   Unspecified   Unspecified  Unspecified   \n",
       "1    MANHATTAN  Unspecified   Unspecified   Unspecified  Unspecified   \n",
       "2    MANHATTAN  Unspecified   Unspecified   Unspecified  Unspecified   \n",
       "3     BROOKLYN  Unspecified   Unspecified   Unspecified  Unspecified   \n",
       "4     BROOKLYN  Unspecified   Unspecified   Unspecified  Unspecified   \n",
       "\n",
       "  School Phone Number School Address  School City School State   School Zip  \\\n",
       "0         Unspecified    Unspecified  Unspecified  Unspecified  Unspecified   \n",
       "1         Unspecified    Unspecified  Unspecified  Unspecified  Unspecified   \n",
       "2         Unspecified    Unspecified  Unspecified  Unspecified  Unspecified   \n",
       "3         Unspecified    Unspecified  Unspecified  Unspecified  Unspecified   \n",
       "4         Unspecified    Unspecified  Unspecified  Unspecified  Unspecified   \n",
       "\n",
       "  School Not Found  School or Citywide Complaint  Vehicle Type  \\\n",
       "0                N                           NaN           NaN   \n",
       "1                N                           NaN           NaN   \n",
       "2                N                           NaN           NaN   \n",
       "3                N                           NaN           NaN   \n",
       "4                N                           NaN           NaN   \n",
       "\n",
       "   Taxi Company Borough  Taxi Pick Up Location Bridge Highway Name  \\\n",
       "0                   NaN                    NaN                 NaN   \n",
       "1                   NaN                    NaN                 NaN   \n",
       "2                   NaN                    NaN                 NaN   \n",
       "3                   NaN                    NaN                 NaN   \n",
       "4                   NaN                    NaN                 NaN   \n",
       "\n",
       "  Bridge Highway Direction Road Ramp Bridge Highway Segment Garage Lot Name  \\\n",
       "0                      NaN       NaN                    NaN             NaN   \n",
       "1                      NaN       NaN                    NaN             NaN   \n",
       "2                      NaN       NaN                    NaN             NaN   \n",
       "3                      NaN       NaN                    NaN             NaN   \n",
       "4                      NaN       NaN                    NaN             NaN   \n",
       "\n",
       "  Ferry Direction Ferry Terminal Name   Latitude  Longitude  \\\n",
       "0             NaN                 NaN  40.839306 -73.877301   \n",
       "1             NaN                 NaN  40.830222 -73.947684   \n",
       "2             NaN                 NaN  40.825104 -73.949368   \n",
       "3             NaN                 NaN  40.640965 -73.929232   \n",
       "4             NaN                 NaN  40.634384 -73.941525   \n",
       "\n",
       "                                   Location  \n",
       "0    (40.83930620730105, -73.8773009180668)  \n",
       "1  (40.830222460372724, -73.94768359377827)  \n",
       "2  (40.825104318551325, -73.94936777115372)  \n",
       "3   (40.64096464471428, -73.92923194083798)  \n",
       "4    (40.63438406330588, -73.9415248319131)  "
      ]
     },
     "execution_count": 29,
     "metadata": {},
     "output_type": "execute_result"
    }
   ],
   "source": [
    "df = pd.read_csv('data/311_Service_Requests_from_2010_to_Present.csv')\n",
    "df.head()"
   ]
  },
  {
   "cell_type": "code",
   "execution_count": 30,
   "metadata": {},
   "outputs": [
    {
     "data": {
      "text/plain": [
       "(1844278, 53)"
      ]
     },
     "execution_count": 30,
     "metadata": {},
     "output_type": "execute_result"
    }
   ],
   "source": [
    "df.shape"
   ]
  },
  {
   "cell_type": "markdown",
   "metadata": {},
   "source": [
    "### Measuring time in Jupyter Notebooks\n",
    "\n",
    "How long did that take? Read it in again, but this time **time how long it takes.** (and no, not with your watch - with Jupyter!)"
   ]
  },
  {
   "cell_type": "code",
   "execution_count": 31,
   "metadata": {},
   "outputs": [
    {
     "name": "stderr",
     "output_type": "stream",
     "text": [
      "<string>:2: DtypeWarning: Columns (17,47) have mixed types. Specify dtype option on import or set low_memory=False.\n"
     ]
    },
    {
     "name": "stdout",
     "output_type": "stream",
     "text": [
      "CPU times: user 37.9 s, sys: 7.83 s, total: 45.7 s\n",
      "Wall time: 52.3 s\n"
     ]
    }
   ],
   "source": [
    "%%time\n",
    "df = pd.read_csv('data/311_Service_Requests_from_2010_to_Present.csv')"
   ]
  },
  {
   "cell_type": "markdown",
   "metadata": {},
   "source": [
    "### Look at the first few rows\n",
    "\n",
    "Make sure you can see **every single column.**"
   ]
  },
  {
   "cell_type": "code",
   "execution_count": 32,
   "metadata": {},
   "outputs": [
    {
     "data": {
      "text/html": [
       "<div>\n",
       "<style>\n",
       "    .dataframe thead tr:only-child th {\n",
       "        text-align: right;\n",
       "    }\n",
       "\n",
       "    .dataframe thead th {\n",
       "        text-align: left;\n",
       "    }\n",
       "\n",
       "    .dataframe tbody tr th {\n",
       "        vertical-align: top;\n",
       "    }\n",
       "</style>\n",
       "<table border=\"1\" class=\"dataframe\">\n",
       "  <thead>\n",
       "    <tr style=\"text-align: right;\">\n",
       "      <th></th>\n",
       "      <th>Unique Key</th>\n",
       "      <th>Created Date</th>\n",
       "      <th>Closed Date</th>\n",
       "      <th>Agency</th>\n",
       "      <th>Agency Name</th>\n",
       "      <th>Complaint Type</th>\n",
       "      <th>Descriptor</th>\n",
       "      <th>Location Type</th>\n",
       "      <th>Incident Zip</th>\n",
       "      <th>Incident Address</th>\n",
       "      <th>Street Name</th>\n",
       "      <th>Cross Street 1</th>\n",
       "      <th>Cross Street 2</th>\n",
       "      <th>Intersection Street 1</th>\n",
       "      <th>Intersection Street 2</th>\n",
       "      <th>Address Type</th>\n",
       "      <th>City</th>\n",
       "      <th>Landmark</th>\n",
       "      <th>Facility Type</th>\n",
       "      <th>Status</th>\n",
       "      <th>Due Date</th>\n",
       "      <th>Resolution Description</th>\n",
       "      <th>Resolution Action Updated Date</th>\n",
       "      <th>Community Board</th>\n",
       "      <th>Borough</th>\n",
       "      <th>X Coordinate (State Plane)</th>\n",
       "      <th>Y Coordinate (State Plane)</th>\n",
       "      <th>Park Facility Name</th>\n",
       "      <th>Park Borough</th>\n",
       "      <th>School Name</th>\n",
       "      <th>School Number</th>\n",
       "      <th>School Region</th>\n",
       "      <th>School Code</th>\n",
       "      <th>School Phone Number</th>\n",
       "      <th>School Address</th>\n",
       "      <th>School City</th>\n",
       "      <th>School State</th>\n",
       "      <th>School Zip</th>\n",
       "      <th>School Not Found</th>\n",
       "      <th>School or Citywide Complaint</th>\n",
       "      <th>Vehicle Type</th>\n",
       "      <th>Taxi Company Borough</th>\n",
       "      <th>Taxi Pick Up Location</th>\n",
       "      <th>Bridge Highway Name</th>\n",
       "      <th>Bridge Highway Direction</th>\n",
       "      <th>Road Ramp</th>\n",
       "      <th>Bridge Highway Segment</th>\n",
       "      <th>Garage Lot Name</th>\n",
       "      <th>Ferry Direction</th>\n",
       "      <th>Ferry Terminal Name</th>\n",
       "      <th>Latitude</th>\n",
       "      <th>Longitude</th>\n",
       "      <th>Location</th>\n",
       "    </tr>\n",
       "  </thead>\n",
       "  <tbody>\n",
       "    <tr>\n",
       "      <th>1844273</th>\n",
       "      <td>35084293</td>\n",
       "      <td>12/22/2016 05:44:00 PM</td>\n",
       "      <td>01/14/2017 01:10:00 AM</td>\n",
       "      <td>DOT</td>\n",
       "      <td>Department of Transportation</td>\n",
       "      <td>Street Light Condition</td>\n",
       "      <td>Street Light Out</td>\n",
       "      <td>NaN</td>\n",
       "      <td>NaN</td>\n",
       "      <td>NaN</td>\n",
       "      <td>NaN</td>\n",
       "      <td>NaN</td>\n",
       "      <td>NaN</td>\n",
       "      <td>12 AVE</td>\n",
       "      <td>51 ST W</td>\n",
       "      <td>INTERSECTION</td>\n",
       "      <td>NaN</td>\n",
       "      <td>NaN</td>\n",
       "      <td>NaN</td>\n",
       "      <td>Closed</td>\n",
       "      <td>NaN</td>\n",
       "      <td>Service Request status for this request is ava...</td>\n",
       "      <td>12/29/2016 12:55:00 AM</td>\n",
       "      <td>Unspecified MANHATTAN</td>\n",
       "      <td>MANHATTAN</td>\n",
       "      <td>NaN</td>\n",
       "      <td>NaN</td>\n",
       "      <td>Unspecified</td>\n",
       "      <td>MANHATTAN</td>\n",
       "      <td>Unspecified</td>\n",
       "      <td>Unspecified</td>\n",
       "      <td>Unspecified</td>\n",
       "      <td>Unspecified</td>\n",
       "      <td>Unspecified</td>\n",
       "      <td>Unspecified</td>\n",
       "      <td>Unspecified</td>\n",
       "      <td>Unspecified</td>\n",
       "      <td>Unspecified</td>\n",
       "      <td>NaN</td>\n",
       "      <td>NaN</td>\n",
       "      <td>NaN</td>\n",
       "      <td>NaN</td>\n",
       "      <td>NaN</td>\n",
       "      <td>NaN</td>\n",
       "      <td>NaN</td>\n",
       "      <td>NaN</td>\n",
       "      <td>NaN</td>\n",
       "      <td>NaN</td>\n",
       "      <td>NaN</td>\n",
       "      <td>NaN</td>\n",
       "      <td>NaN</td>\n",
       "      <td>NaN</td>\n",
       "      <td>NaN</td>\n",
       "    </tr>\n",
       "    <tr>\n",
       "      <th>1844274</th>\n",
       "      <td>35089871</td>\n",
       "      <td>12/23/2016 02:39:00 PM</td>\n",
       "      <td>01/24/2017 09:45:00 AM</td>\n",
       "      <td>DOT</td>\n",
       "      <td>Department of Transportation</td>\n",
       "      <td>Traffic Signal Condition</td>\n",
       "      <td>Controller</td>\n",
       "      <td>NaN</td>\n",
       "      <td>NaN</td>\n",
       "      <td>NaN</td>\n",
       "      <td>NaN</td>\n",
       "      <td>NaN</td>\n",
       "      <td>NaN</td>\n",
       "      <td>KENT AVE</td>\n",
       "      <td>9 ST N</td>\n",
       "      <td>INTERSECTION</td>\n",
       "      <td>NaN</td>\n",
       "      <td>NaN</td>\n",
       "      <td>NaN</td>\n",
       "      <td>Closed</td>\n",
       "      <td>NaN</td>\n",
       "      <td>Service Request status for this request is ava...</td>\n",
       "      <td>12/23/2016 03:50:00 PM</td>\n",
       "      <td>Unspecified BROOKLYN</td>\n",
       "      <td>BROOKLYN</td>\n",
       "      <td>NaN</td>\n",
       "      <td>NaN</td>\n",
       "      <td>Unspecified</td>\n",
       "      <td>BROOKLYN</td>\n",
       "      <td>Unspecified</td>\n",
       "      <td>Unspecified</td>\n",
       "      <td>Unspecified</td>\n",
       "      <td>Unspecified</td>\n",
       "      <td>Unspecified</td>\n",
       "      <td>Unspecified</td>\n",
       "      <td>Unspecified</td>\n",
       "      <td>Unspecified</td>\n",
       "      <td>Unspecified</td>\n",
       "      <td>NaN</td>\n",
       "      <td>NaN</td>\n",
       "      <td>NaN</td>\n",
       "      <td>NaN</td>\n",
       "      <td>NaN</td>\n",
       "      <td>NaN</td>\n",
       "      <td>NaN</td>\n",
       "      <td>NaN</td>\n",
       "      <td>NaN</td>\n",
       "      <td>NaN</td>\n",
       "      <td>NaN</td>\n",
       "      <td>NaN</td>\n",
       "      <td>NaN</td>\n",
       "      <td>NaN</td>\n",
       "      <td>NaN</td>\n",
       "    </tr>\n",
       "    <tr>\n",
       "      <th>1844275</th>\n",
       "      <td>35093725</td>\n",
       "      <td>12/23/2016 01:15:00 PM</td>\n",
       "      <td>NaN</td>\n",
       "      <td>DOT</td>\n",
       "      <td>Department of Transportation</td>\n",
       "      <td>Street Light Condition</td>\n",
       "      <td>Fixture/Luminaire Damaged</td>\n",
       "      <td>NaN</td>\n",
       "      <td>NaN</td>\n",
       "      <td>NaN</td>\n",
       "      <td>NaN</td>\n",
       "      <td>NaN</td>\n",
       "      <td>NaN</td>\n",
       "      <td>CHURCH AVE</td>\n",
       "      <td>21 ST E</td>\n",
       "      <td>INTERSECTION</td>\n",
       "      <td>NaN</td>\n",
       "      <td>NaN</td>\n",
       "      <td>NaN</td>\n",
       "      <td>Assigned</td>\n",
       "      <td>NaN</td>\n",
       "      <td>Service Request status for this request is ava...</td>\n",
       "      <td>12/27/2016 03:31:00 PM</td>\n",
       "      <td>Unspecified BROOKLYN</td>\n",
       "      <td>BROOKLYN</td>\n",
       "      <td>NaN</td>\n",
       "      <td>NaN</td>\n",
       "      <td>Unspecified</td>\n",
       "      <td>BROOKLYN</td>\n",
       "      <td>Unspecified</td>\n",
       "      <td>Unspecified</td>\n",
       "      <td>Unspecified</td>\n",
       "      <td>Unspecified</td>\n",
       "      <td>Unspecified</td>\n",
       "      <td>Unspecified</td>\n",
       "      <td>Unspecified</td>\n",
       "      <td>Unspecified</td>\n",
       "      <td>Unspecified</td>\n",
       "      <td>NaN</td>\n",
       "      <td>NaN</td>\n",
       "      <td>NaN</td>\n",
       "      <td>NaN</td>\n",
       "      <td>NaN</td>\n",
       "      <td>NaN</td>\n",
       "      <td>NaN</td>\n",
       "      <td>NaN</td>\n",
       "      <td>NaN</td>\n",
       "      <td>NaN</td>\n",
       "      <td>NaN</td>\n",
       "      <td>NaN</td>\n",
       "      <td>NaN</td>\n",
       "      <td>NaN</td>\n",
       "      <td>NaN</td>\n",
       "    </tr>\n",
       "    <tr>\n",
       "      <th>1844276</th>\n",
       "      <td>35114167</td>\n",
       "      <td>12/27/2016 03:38:00 PM</td>\n",
       "      <td>NaN</td>\n",
       "      <td>DOT</td>\n",
       "      <td>Department of Transportation</td>\n",
       "      <td>Street Light Condition</td>\n",
       "      <td>Street Light Out</td>\n",
       "      <td>NaN</td>\n",
       "      <td>11214.0</td>\n",
       "      <td>NaN</td>\n",
       "      <td>NaN</td>\n",
       "      <td>NaN</td>\n",
       "      <td>NaN</td>\n",
       "      <td>83 STREET</td>\n",
       "      <td>18 AVENUE</td>\n",
       "      <td>INTERSECTION</td>\n",
       "      <td>BROOKLYN</td>\n",
       "      <td>NaN</td>\n",
       "      <td>NaN</td>\n",
       "      <td>Assigned</td>\n",
       "      <td>NaN</td>\n",
       "      <td>Service Request status for this request is ava...</td>\n",
       "      <td>12/28/2016 03:35:00 PM</td>\n",
       "      <td>11 BROOKLYN</td>\n",
       "      <td>BROOKLYN</td>\n",
       "      <td>984068.0</td>\n",
       "      <td>161101.0</td>\n",
       "      <td>Unspecified</td>\n",
       "      <td>BROOKLYN</td>\n",
       "      <td>Unspecified</td>\n",
       "      <td>Unspecified</td>\n",
       "      <td>Unspecified</td>\n",
       "      <td>Unspecified</td>\n",
       "      <td>Unspecified</td>\n",
       "      <td>Unspecified</td>\n",
       "      <td>Unspecified</td>\n",
       "      <td>Unspecified</td>\n",
       "      <td>Unspecified</td>\n",
       "      <td>NaN</td>\n",
       "      <td>NaN</td>\n",
       "      <td>NaN</td>\n",
       "      <td>NaN</td>\n",
       "      <td>NaN</td>\n",
       "      <td>NaN</td>\n",
       "      <td>NaN</td>\n",
       "      <td>NaN</td>\n",
       "      <td>NaN</td>\n",
       "      <td>NaN</td>\n",
       "      <td>NaN</td>\n",
       "      <td>NaN</td>\n",
       "      <td>40.608861</td>\n",
       "      <td>-74.000655</td>\n",
       "      <td>(40.60886139166086, -74.00065547819452)</td>\n",
       "    </tr>\n",
       "    <tr>\n",
       "      <th>1844277</th>\n",
       "      <td>35118042</td>\n",
       "      <td>12/28/2016 06:19:00 PM</td>\n",
       "      <td>01/14/2017 12:15:00 AM</td>\n",
       "      <td>DOT</td>\n",
       "      <td>Department of Transportation</td>\n",
       "      <td>Street Light Condition</td>\n",
       "      <td>Street Light Out</td>\n",
       "      <td>NaN</td>\n",
       "      <td>NaN</td>\n",
       "      <td>NaN</td>\n",
       "      <td>NaN</td>\n",
       "      <td>NaN</td>\n",
       "      <td>NaN</td>\n",
       "      <td>CENTRAL PARK W</td>\n",
       "      <td>107 ST W</td>\n",
       "      <td>INTERSECTION</td>\n",
       "      <td>NaN</td>\n",
       "      <td>NaN</td>\n",
       "      <td>NaN</td>\n",
       "      <td>Closed</td>\n",
       "      <td>NaN</td>\n",
       "      <td>Service Request status for this request is ava...</td>\n",
       "      <td>01/14/2017 12:15:00 AM</td>\n",
       "      <td>Unspecified MANHATTAN</td>\n",
       "      <td>MANHATTAN</td>\n",
       "      <td>NaN</td>\n",
       "      <td>NaN</td>\n",
       "      <td>Unspecified</td>\n",
       "      <td>MANHATTAN</td>\n",
       "      <td>Unspecified</td>\n",
       "      <td>Unspecified</td>\n",
       "      <td>Unspecified</td>\n",
       "      <td>Unspecified</td>\n",
       "      <td>Unspecified</td>\n",
       "      <td>Unspecified</td>\n",
       "      <td>Unspecified</td>\n",
       "      <td>Unspecified</td>\n",
       "      <td>Unspecified</td>\n",
       "      <td>NaN</td>\n",
       "      <td>NaN</td>\n",
       "      <td>NaN</td>\n",
       "      <td>NaN</td>\n",
       "      <td>NaN</td>\n",
       "      <td>NaN</td>\n",
       "      <td>NaN</td>\n",
       "      <td>NaN</td>\n",
       "      <td>NaN</td>\n",
       "      <td>NaN</td>\n",
       "      <td>NaN</td>\n",
       "      <td>NaN</td>\n",
       "      <td>NaN</td>\n",
       "      <td>NaN</td>\n",
       "      <td>NaN</td>\n",
       "    </tr>\n",
       "  </tbody>\n",
       "</table>\n",
       "</div>"
      ],
      "text/plain": [
       "         Unique Key            Created Date             Closed Date Agency  \\\n",
       "1844273    35084293  12/22/2016 05:44:00 PM  01/14/2017 01:10:00 AM    DOT   \n",
       "1844274    35089871  12/23/2016 02:39:00 PM  01/24/2017 09:45:00 AM    DOT   \n",
       "1844275    35093725  12/23/2016 01:15:00 PM                     NaN    DOT   \n",
       "1844276    35114167  12/27/2016 03:38:00 PM                     NaN    DOT   \n",
       "1844277    35118042  12/28/2016 06:19:00 PM  01/14/2017 12:15:00 AM    DOT   \n",
       "\n",
       "                          Agency Name            Complaint Type  \\\n",
       "1844273  Department of Transportation    Street Light Condition   \n",
       "1844274  Department of Transportation  Traffic Signal Condition   \n",
       "1844275  Department of Transportation    Street Light Condition   \n",
       "1844276  Department of Transportation    Street Light Condition   \n",
       "1844277  Department of Transportation    Street Light Condition   \n",
       "\n",
       "                        Descriptor Location Type  Incident Zip  \\\n",
       "1844273           Street Light Out           NaN           NaN   \n",
       "1844274                 Controller           NaN           NaN   \n",
       "1844275  Fixture/Luminaire Damaged           NaN           NaN   \n",
       "1844276           Street Light Out           NaN       11214.0   \n",
       "1844277           Street Light Out           NaN           NaN   \n",
       "\n",
       "        Incident Address Street Name Cross Street 1 Cross Street 2  \\\n",
       "1844273              NaN         NaN            NaN            NaN   \n",
       "1844274              NaN         NaN            NaN            NaN   \n",
       "1844275              NaN         NaN            NaN            NaN   \n",
       "1844276              NaN         NaN            NaN            NaN   \n",
       "1844277              NaN         NaN            NaN            NaN   \n",
       "\n",
       "        Intersection Street 1 Intersection Street 2  Address Type      City  \\\n",
       "1844273                12 AVE               51 ST W  INTERSECTION       NaN   \n",
       "1844274              KENT AVE                9 ST N  INTERSECTION       NaN   \n",
       "1844275            CHURCH AVE               21 ST E  INTERSECTION       NaN   \n",
       "1844276             83 STREET             18 AVENUE  INTERSECTION  BROOKLYN   \n",
       "1844277        CENTRAL PARK W              107 ST W  INTERSECTION       NaN   \n",
       "\n",
       "        Landmark Facility Type    Status Due Date  \\\n",
       "1844273      NaN           NaN    Closed      NaN   \n",
       "1844274      NaN           NaN    Closed      NaN   \n",
       "1844275      NaN           NaN  Assigned      NaN   \n",
       "1844276      NaN           NaN  Assigned      NaN   \n",
       "1844277      NaN           NaN    Closed      NaN   \n",
       "\n",
       "                                    Resolution Description  \\\n",
       "1844273  Service Request status for this request is ava...   \n",
       "1844274  Service Request status for this request is ava...   \n",
       "1844275  Service Request status for this request is ava...   \n",
       "1844276  Service Request status for this request is ava...   \n",
       "1844277  Service Request status for this request is ava...   \n",
       "\n",
       "        Resolution Action Updated Date        Community Board    Borough  \\\n",
       "1844273         12/29/2016 12:55:00 AM  Unspecified MANHATTAN  MANHATTAN   \n",
       "1844274         12/23/2016 03:50:00 PM   Unspecified BROOKLYN   BROOKLYN   \n",
       "1844275         12/27/2016 03:31:00 PM   Unspecified BROOKLYN   BROOKLYN   \n",
       "1844276         12/28/2016 03:35:00 PM            11 BROOKLYN   BROOKLYN   \n",
       "1844277         01/14/2017 12:15:00 AM  Unspecified MANHATTAN  MANHATTAN   \n",
       "\n",
       "         X Coordinate (State Plane)  Y Coordinate (State Plane)  \\\n",
       "1844273                         NaN                         NaN   \n",
       "1844274                         NaN                         NaN   \n",
       "1844275                         NaN                         NaN   \n",
       "1844276                    984068.0                    161101.0   \n",
       "1844277                         NaN                         NaN   \n",
       "\n",
       "        Park Facility Name Park Borough  School Name School Number  \\\n",
       "1844273        Unspecified    MANHATTAN  Unspecified   Unspecified   \n",
       "1844274        Unspecified     BROOKLYN  Unspecified   Unspecified   \n",
       "1844275        Unspecified     BROOKLYN  Unspecified   Unspecified   \n",
       "1844276        Unspecified     BROOKLYN  Unspecified   Unspecified   \n",
       "1844277        Unspecified    MANHATTAN  Unspecified   Unspecified   \n",
       "\n",
       "        School Region  School Code School Phone Number School Address  \\\n",
       "1844273   Unspecified  Unspecified         Unspecified    Unspecified   \n",
       "1844274   Unspecified  Unspecified         Unspecified    Unspecified   \n",
       "1844275   Unspecified  Unspecified         Unspecified    Unspecified   \n",
       "1844276   Unspecified  Unspecified         Unspecified    Unspecified   \n",
       "1844277   Unspecified  Unspecified         Unspecified    Unspecified   \n",
       "\n",
       "         School City School State   School Zip School Not Found  \\\n",
       "1844273  Unspecified  Unspecified  Unspecified              NaN   \n",
       "1844274  Unspecified  Unspecified  Unspecified              NaN   \n",
       "1844275  Unspecified  Unspecified  Unspecified              NaN   \n",
       "1844276  Unspecified  Unspecified  Unspecified              NaN   \n",
       "1844277  Unspecified  Unspecified  Unspecified              NaN   \n",
       "\n",
       "         School or Citywide Complaint  Vehicle Type  Taxi Company Borough  \\\n",
       "1844273                           NaN           NaN                   NaN   \n",
       "1844274                           NaN           NaN                   NaN   \n",
       "1844275                           NaN           NaN                   NaN   \n",
       "1844276                           NaN           NaN                   NaN   \n",
       "1844277                           NaN           NaN                   NaN   \n",
       "\n",
       "         Taxi Pick Up Location Bridge Highway Name Bridge Highway Direction  \\\n",
       "1844273                    NaN                 NaN                      NaN   \n",
       "1844274                    NaN                 NaN                      NaN   \n",
       "1844275                    NaN                 NaN                      NaN   \n",
       "1844276                    NaN                 NaN                      NaN   \n",
       "1844277                    NaN                 NaN                      NaN   \n",
       "\n",
       "        Road Ramp Bridge Highway Segment Garage Lot Name Ferry Direction  \\\n",
       "1844273       NaN                    NaN             NaN             NaN   \n",
       "1844274       NaN                    NaN             NaN             NaN   \n",
       "1844275       NaN                    NaN             NaN             NaN   \n",
       "1844276       NaN                    NaN             NaN             NaN   \n",
       "1844277       NaN                    NaN             NaN             NaN   \n",
       "\n",
       "        Ferry Terminal Name   Latitude  Longitude  \\\n",
       "1844273                 NaN        NaN        NaN   \n",
       "1844274                 NaN        NaN        NaN   \n",
       "1844275                 NaN        NaN        NaN   \n",
       "1844276                 NaN  40.608861 -74.000655   \n",
       "1844277                 NaN        NaN        NaN   \n",
       "\n",
       "                                        Location  \n",
       "1844273                                      NaN  \n",
       "1844274                                      NaN  \n",
       "1844275                                      NaN  \n",
       "1844276  (40.60886139166086, -74.00065547819452)  \n",
       "1844277                                      NaN  "
      ]
     },
     "execution_count": 32,
     "metadata": {},
     "output_type": "execute_result"
    }
   ],
   "source": [
    "pd.set_option('display.max_columns',100)\n",
    "df.tail()"
   ]
  },
  {
   "cell_type": "code",
   "execution_count": 33,
   "metadata": {},
   "outputs": [
    {
     "data": {
      "text/plain": [
       "100"
      ]
     },
     "execution_count": 33,
     "metadata": {},
     "output_type": "execute_result"
    }
   ],
   "source": [
    "pd.options.display.max_columns"
   ]
  },
  {
   "cell_type": "markdown",
   "metadata": {},
   "source": [
    "### Speeding things up\n",
    "\n",
    "We're going to be looking at open and close times, agencies, and the complaints (both types and descriptor). The only kind of location-based thing we'll want is borough.\n",
    "\n",
    "**How much faster is it if we only read in those columns?**"
   ]
  },
  {
   "cell_type": "code",
   "execution_count": 43,
   "metadata": {},
   "outputs": [
    {
     "name": "stdout",
     "output_type": "stream",
     "text": [
      "CPU times: user 15.4 s, sys: 1.82 s, total: 17.3 s\n",
      "Wall time: 18.9 s\n"
     ]
    }
   ],
   "source": [
    "%%time\n",
    "df = pd.read_csv('data/311_Service_Requests_from_2010_to_Present.csv', usecols=['Unique Key','Created Date','Closed Date','Agency','Agency Name','Complaint Type','Descriptor','City'])"
   ]
  },
  {
   "cell_type": "markdown",
   "metadata": {},
   "source": [
    "## Converting the 'Created Date' and 'Closed Date' columns to datetimes\n",
    "\n",
    "### First, testing some things out\n",
    "\n",
    "Let's take a look at converting **Created Date**, but **not all at once**.\n",
    "\n",
    "1. Take 10,000 of them and try to convert them **without** a format string. Time it.\n",
    "2. Take the same 10,000 and try to convert them **with** a format string. Time it.\n",
    "\n",
    "If you tried to do all 1.8 million rows, **how long might it take with a format string vs without?**"
   ]
  },
  {
   "cell_type": "code",
   "execution_count": 45,
   "metadata": {},
   "outputs": [
    {
     "name": "stdout",
     "output_type": "stream",
     "text": [
      "CPU times: user 10min 23s, sys: 10.9 s, total: 10min 34s\n",
      "Wall time: 11min 14s\n"
     ]
    },
    {
     "data": {
      "text/plain": [
       "0      2015-09-04 22:55:25\n",
       "1      2015-09-04 13:53:45\n",
       "2      2015-09-04 21:15:43\n",
       "3      2015-09-05 01:06:57\n",
       "4      2015-09-04 07:48:25\n",
       "5      2015-09-04 11:31:12\n",
       "6      2015-09-04 07:02:24\n",
       "7      2015-09-04 12:34:05\n",
       "8      2015-09-04 19:56:42\n",
       "9      2015-09-04 21:04:42\n",
       "10     2015-09-04 20:26:09\n",
       "11     2015-09-04 11:07:15\n",
       "12     2015-09-04 22:23:59\n",
       "13     2015-09-04 23:16:12\n",
       "14     2015-09-04 16:49:55\n",
       "15     2015-09-04 14:39:46\n",
       "16     2015-09-04 20:21:22\n",
       "17     2015-09-04 23:34:23\n",
       "18     2015-09-04 21:55:19\n",
       "19     2015-09-04 23:44:07\n",
       "20     2015-09-04 08:12:10\n",
       "21     2015-09-04 23:14:40\n",
       "22     2015-09-04 20:17:20\n",
       "23     2015-09-04 22:54:59\n",
       "24     2015-09-04 15:45:14\n",
       "25     2015-09-04 23:48:20\n",
       "26     2015-09-05 01:53:40\n",
       "27     2015-09-04 23:34:47\n",
       "28     2015-09-04 23:37:52\n",
       "29     2015-09-04 23:01:37\n",
       "               ...        \n",
       "9970   2015-09-07 13:39:12\n",
       "9971   2015-09-07 06:53:28\n",
       "9972   2015-09-07 06:10:00\n",
       "9973   2015-09-07 04:02:27\n",
       "9974   2015-09-07 09:00:33\n",
       "9975   2015-09-07 07:13:20\n",
       "9976   2015-09-07 14:47:56\n",
       "9977   2015-09-07 13:55:42\n",
       "9978   2015-09-07 05:30:49\n",
       "9979   2015-09-07 06:02:00\n",
       "9980   2015-09-07 19:57:57\n",
       "9981   2015-09-07 21:26:28\n",
       "9982   2015-09-07 11:49:55\n",
       "9983   2015-09-07 22:05:00\n",
       "9984   2015-09-07 09:18:10\n",
       "9985   2015-09-07 13:13:02\n",
       "9986   2015-09-07 12:26:18\n",
       "9987   2015-09-07 06:09:00\n",
       "9988   2015-09-07 18:41:04\n",
       "9989   2015-09-08 01:59:16\n",
       "9990   2015-09-07 06:04:00\n",
       "9991   2015-09-07 06:02:00\n",
       "9992   2015-09-07 22:40:23\n",
       "9993   2015-09-07 23:18:22\n",
       "9994   2015-09-07 15:05:00\n",
       "9995   2015-09-07 19:12:08\n",
       "9996   2015-09-07 21:11:00\n",
       "9997   2015-09-08 16:50:52\n",
       "9998   2015-09-08 07:27:55\n",
       "9999   2015-09-08 16:25:03\n",
       "Name: Created Date, Length: 10000, dtype: datetime64[ns]"
      ]
     },
     "execution_count": 45,
     "metadata": {},
     "output_type": "execute_result"
    }
   ],
   "source": [
    "%%time\n",
    "pd.to_datetime(df['Created Date']).head(10000)"
   ]
  },
  {
   "cell_type": "code",
   "execution_count": 46,
   "metadata": {},
   "outputs": [
    {
     "name": "stdout",
     "output_type": "stream",
     "text": [
      "CPU times: user 59 ms, sys: 814 µs, total: 59.8 ms\n",
      "Wall time: 60 ms\n"
     ]
    },
    {
     "data": {
      "text/plain": [
       "0      2015-09-04 10:55:25\n",
       "1      2015-09-04 01:53:45\n",
       "2      2015-09-04 09:15:43\n",
       "3      2015-09-05 01:06:57\n",
       "4      2015-09-04 07:48:25\n",
       "5      2015-09-04 11:31:12\n",
       "6      2015-09-04 07:02:24\n",
       "7      2015-09-04 12:34:05\n",
       "8      2015-09-04 07:56:42\n",
       "9      2015-09-04 09:04:42\n",
       "10     2015-09-04 08:26:09\n",
       "11     2015-09-04 11:07:15\n",
       "12     2015-09-04 10:23:59\n",
       "13     2015-09-04 11:16:12\n",
       "14     2015-09-04 04:49:55\n",
       "15     2015-09-04 02:39:46\n",
       "16     2015-09-04 08:21:22\n",
       "17     2015-09-04 11:34:23\n",
       "18     2015-09-04 09:55:19\n",
       "19     2015-09-04 11:44:07\n",
       "20     2015-09-04 08:12:10\n",
       "21     2015-09-04 11:14:40\n",
       "22     2015-09-04 08:17:20\n",
       "23     2015-09-04 10:54:59\n",
       "24     2015-09-04 03:45:14\n",
       "25     2015-09-04 11:48:20\n",
       "26     2015-09-05 01:53:40\n",
       "27     2015-09-04 11:34:47\n",
       "28     2015-09-04 11:37:52\n",
       "29     2015-09-04 11:01:37\n",
       "               ...        \n",
       "9970   2015-09-07 01:39:12\n",
       "9971   2015-09-07 06:53:28\n",
       "9972   2015-09-07 06:10:00\n",
       "9973   2015-09-07 04:02:27\n",
       "9974   2015-09-07 09:00:33\n",
       "9975   2015-09-07 07:13:20\n",
       "9976   2015-09-07 02:47:56\n",
       "9977   2015-09-07 01:55:42\n",
       "9978   2015-09-07 05:30:49\n",
       "9979   2015-09-07 06:02:00\n",
       "9980   2015-09-07 07:57:57\n",
       "9981   2015-09-07 09:26:28\n",
       "9982   2015-09-07 11:49:55\n",
       "9983   2015-09-07 10:05:00\n",
       "9984   2015-09-07 09:18:10\n",
       "9985   2015-09-07 01:13:02\n",
       "9986   2015-09-07 12:26:18\n",
       "9987   2015-09-07 06:09:00\n",
       "9988   2015-09-07 06:41:04\n",
       "9989   2015-09-08 01:59:16\n",
       "9990   2015-09-07 06:04:00\n",
       "9991   2015-09-07 06:02:00\n",
       "9992   2015-09-07 10:40:23\n",
       "9993   2015-09-07 11:18:22\n",
       "9994   2015-09-07 03:05:00\n",
       "9995   2015-09-07 07:12:08\n",
       "9996   2015-09-07 09:11:00\n",
       "9997   2015-09-08 04:50:52\n",
       "9998   2015-09-08 07:27:55\n",
       "9999   2015-09-08 04:25:03\n",
       "Name: Created Date, Length: 10000, dtype: datetime64[ns]"
      ]
     },
     "execution_count": 46,
     "metadata": {},
     "output_type": "execute_result"
    }
   ],
   "source": [
    "%%time\n",
    "pd.to_datetime(df['Created Date'].head(10000), format='%m/%d/%Y %X %p')"
   ]
  },
  {
   "cell_type": "code",
   "execution_count": 47,
   "metadata": {},
   "outputs": [
    {
     "name": "stdout",
     "output_type": "stream",
     "text": [
      "CPU times: user 10min 16s, sys: 10.3 s, total: 10min 26s\n",
      "Wall time: 11min 7s\n"
     ]
    },
    {
     "data": {
      "text/plain": [
       "0      2015-09-05 02:06:54\n",
       "1      2015-09-04 18:37:24\n",
       "2      2015-09-04 22:32:01\n",
       "3      2015-09-05 02:26:43\n",
       "4      2015-09-04 17:21:18\n",
       "5      2015-09-04 15:01:54\n",
       "6      2015-09-04 13:55:53\n",
       "7      2015-09-04 13:38:47\n",
       "8      2015-09-04 21:18:31\n",
       "9      2015-09-05 00:39:53\n",
       "10     2015-09-05 01:09:44\n",
       "11     2015-09-04 11:16:33\n",
       "12     2015-09-04 22:49:19\n",
       "13     2015-09-05 02:49:33\n",
       "14     2015-09-04 21:20:38\n",
       "15     2015-09-04 14:52:11\n",
       "16     2015-09-04 23:41:18\n",
       "17     2015-09-05 00:29:52\n",
       "18     2015-09-04 23:26:51\n",
       "19     2015-09-05 00:07:18\n",
       "20     2015-09-04 15:34:40\n",
       "21     2015-09-05 02:58:23\n",
       "22     2015-09-05 01:48:21\n",
       "23     2015-09-04 23:32:15\n",
       "24     2015-09-04 16:50:16\n",
       "25     2015-09-05 03:12:44\n",
       "26     2015-09-05 02:50:37\n",
       "27     2015-09-05 01:45:56\n",
       "28     2015-09-05 01:03:04\n",
       "29     2015-09-05 02:06:56\n",
       "               ...        \n",
       "9970   2015-09-07 14:24:40\n",
       "9971   2015-09-07 08:43:55\n",
       "9972   2015-09-08 10:41:00\n",
       "9973   2015-09-07 07:20:52\n",
       "9974   2015-09-07 10:16:18\n",
       "9975   2015-09-07 08:55:30\n",
       "9976   2015-09-07 19:07:23\n",
       "9977   2015-09-07 16:28:00\n",
       "9978   2015-09-07 16:42:50\n",
       "9979   2015-09-08 10:27:00\n",
       "9980   2015-09-07 21:39:44\n",
       "9981   2015-09-07 22:42:33\n",
       "9982   2015-09-09 09:30:20\n",
       "9983   2015-09-09 16:09:29\n",
       "9984   2015-09-09 16:22:24\n",
       "9985   2015-10-05 10:15:03\n",
       "9986   2015-09-15 12:17:57\n",
       "9987   2015-09-08 10:40:00\n",
       "9988   2015-09-07 22:03:49\n",
       "9989   2015-09-08 03:58:07\n",
       "9990   2015-09-08 10:31:00\n",
       "9991   2015-09-08 10:27:00\n",
       "9992   2015-09-08 04:10:55\n",
       "9993   2015-09-08 03:29:37\n",
       "9994   2015-09-07 15:55:00\n",
       "9995   2015-09-09 16:10:39\n",
       "9996   2015-09-07 21:40:00\n",
       "9997   2015-09-08 19:33:54\n",
       "9998   2015-09-08 08:14:27\n",
       "9999   2015-09-08 17:27:09\n",
       "Name: Closed Date, Length: 10000, dtype: datetime64[ns]"
      ]
     },
     "execution_count": 47,
     "metadata": {},
     "output_type": "execute_result"
    }
   ],
   "source": [
    "%%time\n",
    "pd.to_datetime(df['Closed Date']).head(10000)"
   ]
  },
  {
   "cell_type": "code",
   "execution_count": 48,
   "metadata": {},
   "outputs": [
    {
     "name": "stdout",
     "output_type": "stream",
     "text": [
      "CPU times: user 88.5 ms, sys: 2.59 ms, total: 91.1 ms\n",
      "Wall time: 103 ms\n"
     ]
    },
    {
     "data": {
      "text/plain": [
       "0      2015-09-05 02:06:54\n",
       "1      2015-09-04 06:37:24\n",
       "2      2015-09-04 10:32:01\n",
       "3      2015-09-05 02:26:43\n",
       "4      2015-09-04 05:21:18\n",
       "5      2015-09-04 03:01:54\n",
       "6      2015-09-04 01:55:53\n",
       "7      2015-09-04 01:38:47\n",
       "8      2015-09-04 09:18:31\n",
       "9      2015-09-05 12:39:53\n",
       "10     2015-09-05 01:09:44\n",
       "11     2015-09-04 11:16:33\n",
       "12     2015-09-04 10:49:19\n",
       "13     2015-09-05 02:49:33\n",
       "14     2015-09-04 09:20:38\n",
       "15     2015-09-04 02:52:11\n",
       "16     2015-09-04 11:41:18\n",
       "17     2015-09-05 12:29:52\n",
       "18     2015-09-04 11:26:51\n",
       "19     2015-09-05 12:07:18\n",
       "20     2015-09-04 03:34:40\n",
       "21     2015-09-05 02:58:23\n",
       "22     2015-09-05 01:48:21\n",
       "23     2015-09-04 11:32:15\n",
       "24     2015-09-04 04:50:16\n",
       "25     2015-09-05 03:12:44\n",
       "26     2015-09-05 02:50:37\n",
       "27     2015-09-05 01:45:56\n",
       "28     2015-09-05 01:03:04\n",
       "29     2015-09-05 02:06:56\n",
       "               ...        \n",
       "9970   2015-09-07 02:24:40\n",
       "9971   2015-09-07 08:43:55\n",
       "9972   2015-09-08 10:41:00\n",
       "9973   2015-09-07 07:20:52\n",
       "9974   2015-09-07 10:16:18\n",
       "9975   2015-09-07 08:55:30\n",
       "9976   2015-09-07 07:07:23\n",
       "9977   2015-09-07 04:28:00\n",
       "9978   2015-09-07 04:42:50\n",
       "9979   2015-09-08 10:27:00\n",
       "9980   2015-09-07 09:39:44\n",
       "9981   2015-09-07 10:42:33\n",
       "9982   2015-09-09 09:30:20\n",
       "9983   2015-09-09 04:09:29\n",
       "9984   2015-09-09 04:22:24\n",
       "9985   2015-10-05 10:15:03\n",
       "9986   2015-09-15 12:17:57\n",
       "9987   2015-09-08 10:40:00\n",
       "9988   2015-09-07 10:03:49\n",
       "9989   2015-09-08 03:58:07\n",
       "9990   2015-09-08 10:31:00\n",
       "9991   2015-09-08 10:27:00\n",
       "9992   2015-09-08 04:10:55\n",
       "9993   2015-09-08 03:29:37\n",
       "9994   2015-09-07 03:55:00\n",
       "9995   2015-09-09 04:10:39\n",
       "9996   2015-09-07 09:40:00\n",
       "9997   2015-09-08 07:33:54\n",
       "9998   2015-09-08 08:14:27\n",
       "9999   2015-09-08 05:27:09\n",
       "Name: Closed Date, Length: 10000, dtype: datetime64[ns]"
      ]
     },
     "execution_count": 48,
     "metadata": {},
     "output_type": "execute_result"
    }
   ],
   "source": [
    "%%time\n",
    "pd.to_datetime(df['Closed Date'].head(10000), format='%m/%d/%Y %X %p')"
   ]
  },
  {
   "cell_type": "markdown",
   "metadata": {},
   "source": [
    "### Creating new columns\n",
    "\n",
    "Create new columns called `created_at` and `closed_at` from the `Created Date` and `Closed Date` columns. Do them individually, and **time them**."
   ]
  },
  {
   "cell_type": "code",
   "execution_count": 49,
   "metadata": {},
   "outputs": [
    {
     "name": "stdout",
     "output_type": "stream",
     "text": [
      "CPU times: user 23.8 s, sys: 433 ms, total: 24.2 s\n",
      "Wall time: 25.8 s\n"
     ]
    }
   ],
   "source": [
    "%%time\n",
    "df['created_at'] = pd.to_datetime(df['Created Date'], format='%m/%d/%Y %X %p')\n",
    "df['closed_at'] = pd.to_datetime(df['Closed Date'], format='%m/%d/%Y %X %p')"
   ]
  },
  {
   "cell_type": "code",
   "execution_count": 50,
   "metadata": {},
   "outputs": [
    {
     "data": {
      "text/html": [
       "<div>\n",
       "<style>\n",
       "    .dataframe thead tr:only-child th {\n",
       "        text-align: right;\n",
       "    }\n",
       "\n",
       "    .dataframe thead th {\n",
       "        text-align: left;\n",
       "    }\n",
       "\n",
       "    .dataframe tbody tr th {\n",
       "        vertical-align: top;\n",
       "    }\n",
       "</style>\n",
       "<table border=\"1\" class=\"dataframe\">\n",
       "  <thead>\n",
       "    <tr style=\"text-align: right;\">\n",
       "      <th></th>\n",
       "      <th>Unique Key</th>\n",
       "      <th>Created Date</th>\n",
       "      <th>Closed Date</th>\n",
       "      <th>Agency</th>\n",
       "      <th>Agency Name</th>\n",
       "      <th>Complaint Type</th>\n",
       "      <th>Descriptor</th>\n",
       "      <th>City</th>\n",
       "      <th>created_at</th>\n",
       "      <th>closed_at</th>\n",
       "    </tr>\n",
       "  </thead>\n",
       "  <tbody>\n",
       "    <tr>\n",
       "      <th>0</th>\n",
       "      <td>31463990</td>\n",
       "      <td>09/04/2015 10:55:25 PM</td>\n",
       "      <td>09/05/2015 02:06:54 AM</td>\n",
       "      <td>NYPD</td>\n",
       "      <td>New York City Police Department</td>\n",
       "      <td>Noise - Street/Sidewalk</td>\n",
       "      <td>Loud Music/Party</td>\n",
       "      <td>BRONX</td>\n",
       "      <td>2015-09-04 10:55:25</td>\n",
       "      <td>2015-09-05 02:06:54</td>\n",
       "    </tr>\n",
       "    <tr>\n",
       "      <th>1</th>\n",
       "      <td>31463991</td>\n",
       "      <td>09/04/2015 01:53:45 PM</td>\n",
       "      <td>09/04/2015 06:37:24 PM</td>\n",
       "      <td>NYPD</td>\n",
       "      <td>New York City Police Department</td>\n",
       "      <td>Noise - Street/Sidewalk</td>\n",
       "      <td>Loud Music/Party</td>\n",
       "      <td>NEW YORK</td>\n",
       "      <td>2015-09-04 01:53:45</td>\n",
       "      <td>2015-09-04 06:37:24</td>\n",
       "    </tr>\n",
       "    <tr>\n",
       "      <th>2</th>\n",
       "      <td>31463992</td>\n",
       "      <td>09/04/2015 09:15:43 PM</td>\n",
       "      <td>09/04/2015 10:32:01 PM</td>\n",
       "      <td>NYPD</td>\n",
       "      <td>New York City Police Department</td>\n",
       "      <td>Noise - Street/Sidewalk</td>\n",
       "      <td>Loud Music/Party</td>\n",
       "      <td>NEW YORK</td>\n",
       "      <td>2015-09-04 09:15:43</td>\n",
       "      <td>2015-09-04 10:32:01</td>\n",
       "    </tr>\n",
       "    <tr>\n",
       "      <th>3</th>\n",
       "      <td>31463993</td>\n",
       "      <td>09/05/2015 01:06:57 AM</td>\n",
       "      <td>09/05/2015 02:26:43 AM</td>\n",
       "      <td>NYPD</td>\n",
       "      <td>New York City Police Department</td>\n",
       "      <td>Noise - Commercial</td>\n",
       "      <td>Loud Music/Party</td>\n",
       "      <td>BROOKLYN</td>\n",
       "      <td>2015-09-05 01:06:57</td>\n",
       "      <td>2015-09-05 02:26:43</td>\n",
       "    </tr>\n",
       "    <tr>\n",
       "      <th>4</th>\n",
       "      <td>31463995</td>\n",
       "      <td>09/04/2015 07:48:25 AM</td>\n",
       "      <td>09/04/2015 05:21:18 PM</td>\n",
       "      <td>NYPD</td>\n",
       "      <td>New York City Police Department</td>\n",
       "      <td>Illegal Parking</td>\n",
       "      <td>Overnight Commercial Storage</td>\n",
       "      <td>BROOKLYN</td>\n",
       "      <td>2015-09-04 07:48:25</td>\n",
       "      <td>2015-09-04 05:21:18</td>\n",
       "    </tr>\n",
       "  </tbody>\n",
       "</table>\n",
       "</div>"
      ],
      "text/plain": [
       "   Unique Key            Created Date             Closed Date Agency  \\\n",
       "0    31463990  09/04/2015 10:55:25 PM  09/05/2015 02:06:54 AM   NYPD   \n",
       "1    31463991  09/04/2015 01:53:45 PM  09/04/2015 06:37:24 PM   NYPD   \n",
       "2    31463992  09/04/2015 09:15:43 PM  09/04/2015 10:32:01 PM   NYPD   \n",
       "3    31463993  09/05/2015 01:06:57 AM  09/05/2015 02:26:43 AM   NYPD   \n",
       "4    31463995  09/04/2015 07:48:25 AM  09/04/2015 05:21:18 PM   NYPD   \n",
       "\n",
       "                       Agency Name           Complaint Type  \\\n",
       "0  New York City Police Department  Noise - Street/Sidewalk   \n",
       "1  New York City Police Department  Noise - Street/Sidewalk   \n",
       "2  New York City Police Department  Noise - Street/Sidewalk   \n",
       "3  New York City Police Department       Noise - Commercial   \n",
       "4  New York City Police Department          Illegal Parking   \n",
       "\n",
       "                     Descriptor      City          created_at  \\\n",
       "0              Loud Music/Party     BRONX 2015-09-04 10:55:25   \n",
       "1              Loud Music/Party  NEW YORK 2015-09-04 01:53:45   \n",
       "2              Loud Music/Party  NEW YORK 2015-09-04 09:15:43   \n",
       "3              Loud Music/Party  BROOKLYN 2015-09-05 01:06:57   \n",
       "4  Overnight Commercial Storage  BROOKLYN 2015-09-04 07:48:25   \n",
       "\n",
       "            closed_at  \n",
       "0 2015-09-05 02:06:54  \n",
       "1 2015-09-04 06:37:24  \n",
       "2 2015-09-04 10:32:01  \n",
       "3 2015-09-05 02:26:43  \n",
       "4 2015-09-04 05:21:18  "
      ]
     },
     "execution_count": 50,
     "metadata": {},
     "output_type": "execute_result"
    }
   ],
   "source": [
    "df.head()"
   ]
  },
  {
   "cell_type": "markdown",
   "metadata": {},
   "source": [
    "### Confirming they look okay\n",
    "\n",
    "Take a look at the first few rows to make sure the dates look correct, and then make sure their data type is `datetime64[ns]`."
   ]
  },
  {
   "cell_type": "code",
   "execution_count": 51,
   "metadata": {},
   "outputs": [
    {
     "data": {
      "text/plain": [
       "Unique Key                 int64\n",
       "Created Date              object\n",
       "Closed Date               object\n",
       "Agency                    object\n",
       "Agency Name               object\n",
       "Complaint Type            object\n",
       "Descriptor                object\n",
       "City                      object\n",
       "created_at        datetime64[ns]\n",
       "closed_at         datetime64[ns]\n",
       "dtype: object"
      ]
     },
     "execution_count": 51,
     "metadata": {},
     "output_type": "execute_result"
    }
   ],
   "source": [
    "df.dtypes"
   ]
  },
  {
   "cell_type": "markdown",
   "metadata": {},
   "source": [
    "# Examining agencies"
   ]
  },
  {
   "cell_type": "markdown",
   "metadata": {},
   "source": [
    "Who has more 311 requests, the Department of Transportation or the NYPD?"
   ]
  },
  {
   "cell_type": "code",
   "execution_count": 52,
   "metadata": {},
   "outputs": [
    {
     "data": {
      "text/plain": [
       "NYPD    1251121\n",
       "DOT      593157\n",
       "Name: Agency, dtype: int64"
      ]
     },
     "execution_count": 52,
     "metadata": {},
     "output_type": "execute_result"
    }
   ],
   "source": [
    "df['Agency'].value_counts()"
   ]
  },
  {
   "cell_type": "markdown",
   "metadata": {},
   "source": [
    "## What's the difference between \"Complaint Type\" and \"Descriptor\" columns?"
   ]
  },
  {
   "cell_type": "code",
   "execution_count": 53,
   "metadata": {},
   "outputs": [
    {
     "data": {
      "text/plain": [
       "Noise - Residential       429932\n",
       "Blocked Driveway          219927\n",
       "Illegal Parking           215158\n",
       "Street Condition          215053\n",
       "Street Light Condition    187228\n",
       "Name: Complaint Type, dtype: int64"
      ]
     },
     "execution_count": 53,
     "metadata": {},
     "output_type": "execute_result"
    }
   ],
   "source": [
    "df['Complaint Type'].value_counts().head()"
   ]
  },
  {
   "cell_type": "code",
   "execution_count": 54,
   "metadata": {},
   "outputs": [
    {
     "data": {
      "text/plain": [
       "Loud Music/Party    432588\n",
       "No Access           163622\n",
       "Street Light Out    147587\n",
       "Pothole             138134\n",
       "Banging/Pounding    122237\n",
       "Name: Descriptor, dtype: int64"
      ]
     },
     "execution_count": 54,
     "metadata": {},
     "output_type": "execute_result"
    }
   ],
   "source": [
    "df['Descriptor'].value_counts().head()"
   ]
  },
  {
   "cell_type": "markdown",
   "metadata": {},
   "source": [
    "## What are the most popular categories of complaints for the NYPD? For the DOT?"
   ]
  },
  {
   "cell_type": "code",
   "execution_count": 55,
   "metadata": {},
   "outputs": [
    {
     "data": {
      "text/plain": [
       "Noise - Residential        429932\n",
       "Blocked Driveway           219927\n",
       "Illegal Parking            215158\n",
       "Noise - Street/Sidewalk    112890\n",
       "Noise - Commercial          93115\n",
       "Name: Complaint Type, dtype: int64"
      ]
     },
     "execution_count": 55,
     "metadata": {},
     "output_type": "execute_result"
    }
   ],
   "source": [
    "df[df['Agency'] == 'NYPD']['Complaint Type'].value_counts().head()"
   ]
  },
  {
   "cell_type": "code",
   "execution_count": 56,
   "metadata": {},
   "outputs": [
    {
     "data": {
      "text/plain": [
       "Street Condition            215052\n",
       "Street Light Condition      187228\n",
       "Traffic Signal Condition     79737\n",
       "Broken Muni Meter            47234\n",
       "Street Sign - Damaged        12041\n",
       "Name: Complaint Type, dtype: int64"
      ]
     },
     "execution_count": 56,
     "metadata": {},
     "output_type": "execute_result"
    }
   ],
   "source": [
    "df[df['Agency'] == 'DOT']['Complaint Type'].value_counts().head()"
   ]
  },
  {
   "cell_type": "markdown",
   "metadata": {},
   "source": [
    "## When people are complaining about street conditions, what are they usually complaining about?"
   ]
  },
  {
   "cell_type": "code",
   "execution_count": 57,
   "metadata": {},
   "outputs": [
    {
     "data": {
      "text/plain": [
       "Pothole                           137931\n",
       "Cave-in                            22026\n",
       "Rough, Pitted or Cracked Roads     12150\n",
       "Defective Hardware                 11206\n",
       "Failed Street Repair                9408\n",
       "Name: Descriptor, dtype: int64"
      ]
     },
     "execution_count": 57,
     "metadata": {},
     "output_type": "execute_result"
    }
   ],
   "source": [
    "df[df['Complaint Type'] == 'Street Condition']['Descriptor'].value_counts().head()"
   ]
  },
  {
   "cell_type": "markdown",
   "metadata": {},
   "source": [
    "## What kinds of noise are they complaining about when making residential noise complaints?"
   ]
  },
  {
   "cell_type": "code",
   "execution_count": 58,
   "metadata": {},
   "outputs": [
    {
     "data": {
      "text/plain": [
       "Loud Music/Party    283631\n",
       "Banging/Pounding    108470\n",
       "Loud Talking         30097\n",
       "Loud Television       7734\n",
       "Name: Descriptor, dtype: int64"
      ]
     },
     "execution_count": 58,
     "metadata": {},
     "output_type": "execute_result"
    }
   ],
   "source": [
    "df[df['Complaint Type'] == 'Noise - Residential']['Descriptor'].value_counts().head()"
   ]
  },
  {
   "cell_type": "markdown",
   "metadata": {},
   "source": [
    "# Timing our complaints\n",
    "\n",
    "How many complaints were filed each month?\n",
    "\n",
    "- Tip: You'll probably want to `.set_index` first!"
   ]
  },
  {
   "cell_type": "code",
   "execution_count": 59,
   "metadata": {
    "collapsed": true
   },
   "outputs": [],
   "source": [
    "df.set_index('created_at', inplace=True)"
   ]
  },
  {
   "cell_type": "code",
   "execution_count": 60,
   "metadata": {},
   "outputs": [
    {
     "data": {
      "text/html": [
       "<div>\n",
       "<style>\n",
       "    .dataframe thead tr:only-child th {\n",
       "        text-align: right;\n",
       "    }\n",
       "\n",
       "    .dataframe thead th {\n",
       "        text-align: left;\n",
       "    }\n",
       "\n",
       "    .dataframe tbody tr th {\n",
       "        vertical-align: top;\n",
       "    }\n",
       "</style>\n",
       "<table border=\"1\" class=\"dataframe\">\n",
       "  <thead>\n",
       "    <tr style=\"text-align: right;\">\n",
       "      <th></th>\n",
       "      <th>Unique Key</th>\n",
       "      <th>Created Date</th>\n",
       "      <th>Closed Date</th>\n",
       "      <th>Agency</th>\n",
       "      <th>Agency Name</th>\n",
       "      <th>Complaint Type</th>\n",
       "      <th>Descriptor</th>\n",
       "      <th>City</th>\n",
       "      <th>closed_at</th>\n",
       "    </tr>\n",
       "    <tr>\n",
       "      <th>created_at</th>\n",
       "      <th></th>\n",
       "      <th></th>\n",
       "      <th></th>\n",
       "      <th></th>\n",
       "      <th></th>\n",
       "      <th></th>\n",
       "      <th></th>\n",
       "      <th></th>\n",
       "      <th></th>\n",
       "    </tr>\n",
       "  </thead>\n",
       "  <tbody>\n",
       "    <tr>\n",
       "      <th>2015-01-31</th>\n",
       "      <td>58168</td>\n",
       "      <td>58168</td>\n",
       "      <td>57932</td>\n",
       "      <td>58168</td>\n",
       "      <td>58168</td>\n",
       "      <td>58168</td>\n",
       "      <td>57968</td>\n",
       "      <td>52639</td>\n",
       "      <td>57932</td>\n",
       "    </tr>\n",
       "    <tr>\n",
       "      <th>2015-02-28</th>\n",
       "      <td>59895</td>\n",
       "      <td>59895</td>\n",
       "      <td>59663</td>\n",
       "      <td>59895</td>\n",
       "      <td>59895</td>\n",
       "      <td>59895</td>\n",
       "      <td>59763</td>\n",
       "      <td>54068</td>\n",
       "      <td>59663</td>\n",
       "    </tr>\n",
       "    <tr>\n",
       "      <th>2015-03-31</th>\n",
       "      <td>87190</td>\n",
       "      <td>87190</td>\n",
       "      <td>86753</td>\n",
       "      <td>87190</td>\n",
       "      <td>87190</td>\n",
       "      <td>87190</td>\n",
       "      <td>86902</td>\n",
       "      <td>79568</td>\n",
       "      <td>86753</td>\n",
       "    </tr>\n",
       "    <tr>\n",
       "      <th>2015-04-30</th>\n",
       "      <td>78002</td>\n",
       "      <td>78002</td>\n",
       "      <td>77626</td>\n",
       "      <td>78002</td>\n",
       "      <td>78002</td>\n",
       "      <td>78002</td>\n",
       "      <td>77614</td>\n",
       "      <td>71354</td>\n",
       "      <td>77626</td>\n",
       "    </tr>\n",
       "    <tr>\n",
       "      <th>2015-05-31</th>\n",
       "      <td>87582</td>\n",
       "      <td>87582</td>\n",
       "      <td>86677</td>\n",
       "      <td>87582</td>\n",
       "      <td>87582</td>\n",
       "      <td>87582</td>\n",
       "      <td>86909</td>\n",
       "      <td>81197</td>\n",
       "      <td>86677</td>\n",
       "    </tr>\n",
       "    <tr>\n",
       "      <th>2015-06-30</th>\n",
       "      <td>84486</td>\n",
       "      <td>84486</td>\n",
       "      <td>83924</td>\n",
       "      <td>84486</td>\n",
       "      <td>84486</td>\n",
       "      <td>84486</td>\n",
       "      <td>83812</td>\n",
       "      <td>78135</td>\n",
       "      <td>83924</td>\n",
       "    </tr>\n",
       "    <tr>\n",
       "      <th>2015-07-31</th>\n",
       "      <td>77795</td>\n",
       "      <td>77795</td>\n",
       "      <td>76561</td>\n",
       "      <td>77795</td>\n",
       "      <td>77795</td>\n",
       "      <td>77795</td>\n",
       "      <td>76889</td>\n",
       "      <td>71637</td>\n",
       "      <td>76561</td>\n",
       "    </tr>\n",
       "    <tr>\n",
       "      <th>2015-08-31</th>\n",
       "      <td>78793</td>\n",
       "      <td>78793</td>\n",
       "      <td>78286</td>\n",
       "      <td>78793</td>\n",
       "      <td>78793</td>\n",
       "      <td>78793</td>\n",
       "      <td>77917</td>\n",
       "      <td>73512</td>\n",
       "      <td>78286</td>\n",
       "    </tr>\n",
       "    <tr>\n",
       "      <th>2015-09-30</th>\n",
       "      <td>78317</td>\n",
       "      <td>78317</td>\n",
       "      <td>77764</td>\n",
       "      <td>78317</td>\n",
       "      <td>78317</td>\n",
       "      <td>78317</td>\n",
       "      <td>77475</td>\n",
       "      <td>71781</td>\n",
       "      <td>77764</td>\n",
       "    </tr>\n",
       "    <tr>\n",
       "      <th>2015-10-31</th>\n",
       "      <td>72201</td>\n",
       "      <td>72201</td>\n",
       "      <td>71612</td>\n",
       "      <td>72201</td>\n",
       "      <td>72201</td>\n",
       "      <td>72201</td>\n",
       "      <td>71598</td>\n",
       "      <td>66476</td>\n",
       "      <td>71612</td>\n",
       "    </tr>\n",
       "    <tr>\n",
       "      <th>2015-11-30</th>\n",
       "      <td>66333</td>\n",
       "      <td>66333</td>\n",
       "      <td>65986</td>\n",
       "      <td>66333</td>\n",
       "      <td>66333</td>\n",
       "      <td>66333</td>\n",
       "      <td>65846</td>\n",
       "      <td>61417</td>\n",
       "      <td>65986</td>\n",
       "    </tr>\n",
       "    <tr>\n",
       "      <th>2015-12-31</th>\n",
       "      <td>70215</td>\n",
       "      <td>70215</td>\n",
       "      <td>69719</td>\n",
       "      <td>70215</td>\n",
       "      <td>70215</td>\n",
       "      <td>70215</td>\n",
       "      <td>69779</td>\n",
       "      <td>64617</td>\n",
       "      <td>69719</td>\n",
       "    </tr>\n",
       "    <tr>\n",
       "      <th>2016-01-31</th>\n",
       "      <td>68333</td>\n",
       "      <td>68333</td>\n",
       "      <td>67986</td>\n",
       "      <td>68333</td>\n",
       "      <td>68333</td>\n",
       "      <td>68333</td>\n",
       "      <td>68038</td>\n",
       "      <td>62268</td>\n",
       "      <td>67986</td>\n",
       "    </tr>\n",
       "    <tr>\n",
       "      <th>2016-02-29</th>\n",
       "      <td>68408</td>\n",
       "      <td>68408</td>\n",
       "      <td>67997</td>\n",
       "      <td>68408</td>\n",
       "      <td>68408</td>\n",
       "      <td>68408</td>\n",
       "      <td>68138</td>\n",
       "      <td>62196</td>\n",
       "      <td>67997</td>\n",
       "    </tr>\n",
       "    <tr>\n",
       "      <th>2016-03-31</th>\n",
       "      <td>78521</td>\n",
       "      <td>78521</td>\n",
       "      <td>78054</td>\n",
       "      <td>78521</td>\n",
       "      <td>78521</td>\n",
       "      <td>78521</td>\n",
       "      <td>78146</td>\n",
       "      <td>72587</td>\n",
       "      <td>78054</td>\n",
       "    </tr>\n",
       "    <tr>\n",
       "      <th>2016-04-30</th>\n",
       "      <td>80137</td>\n",
       "      <td>80137</td>\n",
       "      <td>79655</td>\n",
       "      <td>80137</td>\n",
       "      <td>80137</td>\n",
       "      <td>80137</td>\n",
       "      <td>79758</td>\n",
       "      <td>74510</td>\n",
       "      <td>79655</td>\n",
       "    </tr>\n",
       "    <tr>\n",
       "      <th>2016-05-31</th>\n",
       "      <td>92948</td>\n",
       "      <td>92948</td>\n",
       "      <td>92405</td>\n",
       "      <td>92948</td>\n",
       "      <td>92948</td>\n",
       "      <td>92948</td>\n",
       "      <td>92356</td>\n",
       "      <td>87183</td>\n",
       "      <td>92405</td>\n",
       "    </tr>\n",
       "    <tr>\n",
       "      <th>2016-06-30</th>\n",
       "      <td>91815</td>\n",
       "      <td>91815</td>\n",
       "      <td>91017</td>\n",
       "      <td>91815</td>\n",
       "      <td>91815</td>\n",
       "      <td>91815</td>\n",
       "      <td>91043</td>\n",
       "      <td>86492</td>\n",
       "      <td>91017</td>\n",
       "    </tr>\n",
       "    <tr>\n",
       "      <th>2016-07-31</th>\n",
       "      <td>82586</td>\n",
       "      <td>82586</td>\n",
       "      <td>82122</td>\n",
       "      <td>82586</td>\n",
       "      <td>82586</td>\n",
       "      <td>82586</td>\n",
       "      <td>81767</td>\n",
       "      <td>77609</td>\n",
       "      <td>82122</td>\n",
       "    </tr>\n",
       "    <tr>\n",
       "      <th>2016-08-31</th>\n",
       "      <td>78215</td>\n",
       "      <td>78215</td>\n",
       "      <td>77694</td>\n",
       "      <td>78215</td>\n",
       "      <td>78215</td>\n",
       "      <td>78215</td>\n",
       "      <td>77312</td>\n",
       "      <td>73206</td>\n",
       "      <td>77694</td>\n",
       "    </tr>\n",
       "    <tr>\n",
       "      <th>2016-09-30</th>\n",
       "      <td>84151</td>\n",
       "      <td>84151</td>\n",
       "      <td>83503</td>\n",
       "      <td>84151</td>\n",
       "      <td>84151</td>\n",
       "      <td>84151</td>\n",
       "      <td>83238</td>\n",
       "      <td>79676</td>\n",
       "      <td>83503</td>\n",
       "    </tr>\n",
       "    <tr>\n",
       "      <th>2016-10-31</th>\n",
       "      <td>78274</td>\n",
       "      <td>78274</td>\n",
       "      <td>77729</td>\n",
       "      <td>78274</td>\n",
       "      <td>78274</td>\n",
       "      <td>78274</td>\n",
       "      <td>77588</td>\n",
       "      <td>73425</td>\n",
       "      <td>77729</td>\n",
       "    </tr>\n",
       "    <tr>\n",
       "      <th>2016-11-30</th>\n",
       "      <td>69652</td>\n",
       "      <td>69652</td>\n",
       "      <td>69119</td>\n",
       "      <td>69652</td>\n",
       "      <td>69652</td>\n",
       "      <td>69652</td>\n",
       "      <td>69256</td>\n",
       "      <td>65348</td>\n",
       "      <td>69119</td>\n",
       "    </tr>\n",
       "    <tr>\n",
       "      <th>2016-12-31</th>\n",
       "      <td>72261</td>\n",
       "      <td>72261</td>\n",
       "      <td>71747</td>\n",
       "      <td>72261</td>\n",
       "      <td>72261</td>\n",
       "      <td>72261</td>\n",
       "      <td>71972</td>\n",
       "      <td>67088</td>\n",
       "      <td>71747</td>\n",
       "    </tr>\n",
       "  </tbody>\n",
       "</table>\n",
       "</div>"
      ],
      "text/plain": [
       "            Unique Key  Created Date  Closed Date  Agency  Agency Name  \\\n",
       "created_at                                                               \n",
       "2015-01-31       58168         58168        57932   58168        58168   \n",
       "2015-02-28       59895         59895        59663   59895        59895   \n",
       "2015-03-31       87190         87190        86753   87190        87190   \n",
       "2015-04-30       78002         78002        77626   78002        78002   \n",
       "2015-05-31       87582         87582        86677   87582        87582   \n",
       "2015-06-30       84486         84486        83924   84486        84486   \n",
       "2015-07-31       77795         77795        76561   77795        77795   \n",
       "2015-08-31       78793         78793        78286   78793        78793   \n",
       "2015-09-30       78317         78317        77764   78317        78317   \n",
       "2015-10-31       72201         72201        71612   72201        72201   \n",
       "2015-11-30       66333         66333        65986   66333        66333   \n",
       "2015-12-31       70215         70215        69719   70215        70215   \n",
       "2016-01-31       68333         68333        67986   68333        68333   \n",
       "2016-02-29       68408         68408        67997   68408        68408   \n",
       "2016-03-31       78521         78521        78054   78521        78521   \n",
       "2016-04-30       80137         80137        79655   80137        80137   \n",
       "2016-05-31       92948         92948        92405   92948        92948   \n",
       "2016-06-30       91815         91815        91017   91815        91815   \n",
       "2016-07-31       82586         82586        82122   82586        82586   \n",
       "2016-08-31       78215         78215        77694   78215        78215   \n",
       "2016-09-30       84151         84151        83503   84151        84151   \n",
       "2016-10-31       78274         78274        77729   78274        78274   \n",
       "2016-11-30       69652         69652        69119   69652        69652   \n",
       "2016-12-31       72261         72261        71747   72261        72261   \n",
       "\n",
       "            Complaint Type  Descriptor   City  closed_at  \n",
       "created_at                                                \n",
       "2015-01-31           58168       57968  52639      57932  \n",
       "2015-02-28           59895       59763  54068      59663  \n",
       "2015-03-31           87190       86902  79568      86753  \n",
       "2015-04-30           78002       77614  71354      77626  \n",
       "2015-05-31           87582       86909  81197      86677  \n",
       "2015-06-30           84486       83812  78135      83924  \n",
       "2015-07-31           77795       76889  71637      76561  \n",
       "2015-08-31           78793       77917  73512      78286  \n",
       "2015-09-30           78317       77475  71781      77764  \n",
       "2015-10-31           72201       71598  66476      71612  \n",
       "2015-11-30           66333       65846  61417      65986  \n",
       "2015-12-31           70215       69779  64617      69719  \n",
       "2016-01-31           68333       68038  62268      67986  \n",
       "2016-02-29           68408       68138  62196      67997  \n",
       "2016-03-31           78521       78146  72587      78054  \n",
       "2016-04-30           80137       79758  74510      79655  \n",
       "2016-05-31           92948       92356  87183      92405  \n",
       "2016-06-30           91815       91043  86492      91017  \n",
       "2016-07-31           82586       81767  77609      82122  \n",
       "2016-08-31           78215       77312  73206      77694  \n",
       "2016-09-30           84151       83238  79676      83503  \n",
       "2016-10-31           78274       77588  73425      77729  \n",
       "2016-11-30           69652       69256  65348      69119  \n",
       "2016-12-31           72261       71972  67088      71747  "
      ]
     },
     "execution_count": 60,
     "metadata": {},
     "output_type": "execute_result"
    }
   ],
   "source": [
    "df.resample('M').count()"
   ]
  },
  {
   "cell_type": "markdown",
   "metadata": {},
   "source": [
    "## Plot how many requests were filed each month"
   ]
  },
  {
   "cell_type": "code",
   "execution_count": 61,
   "metadata": {},
   "outputs": [
    {
     "data": {
      "text/plain": [
       "<matplotlib.axes._subplots.AxesSubplot at 0x169145da0>"
      ]
     },
     "execution_count": 61,
     "metadata": {},
     "output_type": "execute_result"
    },
    {
     "data": {
      "image/png": "[encoded data removed]",
      "text/plain": [
       "<matplotlib.figure.Figure at 0x10d099f60>"
      ]
     },
     "metadata": {},
     "output_type": "display_data"
    }
   ],
   "source": [
    "df['Unique Key'].resample('M').count().plot()"
   ]
  },
  {
   "cell_type": "markdown",
   "metadata": {},
   "source": [
    "# Hmmm, it looks like a cycle\n",
    "\n",
    "What could cause that? Try a couple comparisons to see if you can find out.\n",
    "\n",
    "- Tip: Maybe the most popular summer complaints vs winter\n",
    "- Tip: Maybe graphing the different agencies on the same graph\n",
    "\n",
    "If you don't figure it out **that's okay!** "
   ]
  },
  {
   "cell_type": "code",
   "execution_count": 63,
   "metadata": {},
   "outputs": [
    {
     "data": {
      "text/plain": [
       "<matplotlib.axes._subplots.AxesSubplot at 0x113600a90>"
      ]
     },
     "execution_count": 63,
     "metadata": {},
     "output_type": "execute_result"
    },
    {
     "data": {
      "image/png": "[encoded data removed]",
      "text/plain": [
       "<matplotlib.figure.Figure at 0x113611d30>"
      ]
     },
     "metadata": {},
     "output_type": "display_data"
    }
   ],
   "source": [
    "df[df['Agency'] == 'NYPD'].resample('M').count().plot(y='Created Date')"
   ]
  },
  {
   "cell_type": "code",
   "execution_count": 64,
   "metadata": {},
   "outputs": [
    {
     "data": {
      "text/plain": [
       "<matplotlib.axes._subplots.AxesSubplot at 0x19dc08b00>"
      ]
     },
     "execution_count": 64,
     "metadata": {},
     "output_type": "execute_result"
    },
    {
     "data": {
      "image/png": "[encoded data removed]",
      "text/plain": [
       "<matplotlib.figure.Figure at 0x11a1fd7f0>"
      ]
     },
     "metadata": {},
     "output_type": "display_data"
    }
   ],
   "source": [
    "df[df['Agency'] == 'DOT'].resample('M').count().plot(y='Created Date')"
   ]
  },
  {
   "cell_type": "markdown",
   "metadata": {},
   "source": [
    "## Time of day\n",
    "\n",
    "### What time of day do people complain?"
   ]
  },
  {
   "cell_type": "code",
   "execution_count": 83,
   "metadata": {},
   "outputs": [
    {
     "data": {
      "text/plain": [
       "<matplotlib.axes._subplots.AxesSubplot at 0x14b8f61d0>"
      ]
     },
     "execution_count": 83,
     "metadata": {},
     "output_type": "execute_result"
    },
    {
     "data": {
      "image/png": "[encoded data removed]",
      "text/plain": [
       "<matplotlib.figure.Figure at 0x1496558d0>"
      ]
     },
     "metadata": {},
     "output_type": "display_data"
    }
   ],
   "source": [
    "df.groupby(df.index.hour)['Created Date'].count().plot()"
   ]
  },
  {
   "cell_type": "markdown",
   "metadata": {},
   "source": [
    "### What time of day do people complain about potholes?"
   ]
  },
  {
   "cell_type": "code",
   "execution_count": 66,
   "metadata": {},
   "outputs": [
    {
     "data": {
      "text/plain": [
       "<matplotlib.axes._subplots.AxesSubplot at 0x10b874eb8>"
      ]
     },
     "execution_count": 66,
     "metadata": {},
     "output_type": "execute_result"
    },
    {
     "data": {
      "image/png": "[encoded data removed]",
      "text/plain": [
       "<matplotlib.figure.Figure at 0x10b88f9e8>"
      ]
     },
     "metadata": {},
     "output_type": "display_data"
    }
   ],
   "source": [
    "potholes = df[df['Descriptor'] == 'Pothole']\n",
    "potholes.groupby(potholes.index.hour)['Created Date'].count().plot(y='Created Date')"
   ]
  },
  {
   "cell_type": "markdown",
   "metadata": {},
   "source": [
    "### What time of day do people complain about loud parties?"
   ]
  },
  {
   "cell_type": "code",
   "execution_count": 67,
   "metadata": {},
   "outputs": [
    {
     "data": {
      "text/plain": [
       "<matplotlib.axes._subplots.AxesSubplot at 0x10d0c9630>"
      ]
     },
     "execution_count": 67,
     "metadata": {},
     "output_type": "execute_result"
    },
    {
     "data": {
      "image/png": "[encoded data removed]",
      "text/plain": [
       "<matplotlib.figure.Figure at 0x10d0ce780>"
      ]
     },
     "metadata": {},
     "output_type": "display_data"
    }
   ],
   "source": [
    "loud_parties = df[df['Descriptor'] == 'Loud Music/Party']\n",
    "loud_parties.groupby(loud_parties.index.hour)['Created Date'].count().plot()"
   ]
  },
  {
   "cell_type": "markdown",
   "metadata": {},
   "source": [
    "## Days of the week"
   ]
  },
  {
   "cell_type": "markdown",
   "metadata": {},
   "source": [
    "### What days of the week do people complain about potholes?"
   ]
  },
  {
   "cell_type": "code",
   "execution_count": 68,
   "metadata": {},
   "outputs": [
    {
     "data": {
      "text/plain": [
       "<matplotlib.axes._subplots.AxesSubplot at 0x10d0f1470>"
      ]
     },
     "execution_count": 68,
     "metadata": {},
     "output_type": "execute_result"
    },
    {
     "data": {
      "image/png": "[encoded data removed]",
      "text/plain": [
       "<matplotlib.figure.Figure at 0x108caccf8>"
      ]
     },
     "metadata": {},
     "output_type": "display_data"
    }
   ],
   "source": [
    "pothole = df[df['Descriptor'] == 'Pothole']\n",
    "pothole.groupby(pothole.index.weekday)['Created Date'].count().plot()"
   ]
  },
  {
   "cell_type": "markdown",
   "metadata": {},
   "source": [
    "### What days of the week do people complain about loud parties?"
   ]
  },
  {
   "cell_type": "code",
   "execution_count": 69,
   "metadata": {},
   "outputs": [
    {
     "data": {
      "text/plain": [
       "<matplotlib.axes._subplots.AxesSubplot at 0x11c8db5c0>"
      ]
     },
     "execution_count": 69,
     "metadata": {},
     "output_type": "execute_result"
    },
    {
     "data": {
      "image/png": "[encoded data removed]",
      "text/plain": [
       "<matplotlib.figure.Figure at 0x11ec0aa58>"
      ]
     },
     "metadata": {},
     "output_type": "display_data"
    }
   ],
   "source": [
    "pothole = df[df['Descriptor'] == 'Loud Music/Party']\n",
    "pothole.groupby(pothole.index.weekday)['Created Date'].count().plot()"
   ]
  },
  {
   "cell_type": "markdown",
   "metadata": {},
   "source": [
    "### What do you think is the best kind of graph for describing day of the week complaints?"
   ]
  },
  {
   "cell_type": "code",
   "execution_count": 70,
   "metadata": {},
   "outputs": [
    {
     "data": {
      "text/plain": [
       "<matplotlib.axes._subplots.AxesSubplot at 0x11c8c9898>"
      ]
     },
     "execution_count": 70,
     "metadata": {},
     "output_type": "execute_result"
    },
    {
     "data": {
      "image/png": "[encoded data removed]",
      "text/plain": [
       "<matplotlib.figure.Figure at 0x11c6ad2e8>"
      ]
     },
     "metadata": {},
     "output_type": "display_data"
    }
   ],
   "source": [
    "df[df['Descriptor'] == 'Loud Music/Party']['Created Date'].groupby(df[df['Descriptor'] == 'Loud Music/Party'].index.dayofweek).count().plot(kind='bar')"
   ]
  },
  {
   "cell_type": "markdown",
   "metadata": {},
   "source": [
    "# Some more investigation\n",
    "\n",
    "## Are there more homeless people in the city in the summer or in the winter?"
   ]
  },
  {
   "cell_type": "code",
   "execution_count": 79,
   "metadata": {},
   "outputs": [
    {
     "data": {
      "text/plain": [
       "<matplotlib.axes._subplots.AxesSubplot at 0x127bb4828>"
      ]
     },
     "execution_count": 79,
     "metadata": {},
     "output_type": "execute_result"
    },
    {
     "data": {
      "image/png": "[encoded data removed]",
      "text/plain": [
       "<matplotlib.figure.Figure at 0x121737f28>"
      ]
     },
     "metadata": {},
     "output_type": "display_data"
    }
   ],
   "source": [
    "df[df['Complaint Type'] == 'Homeless Encampment'].sort_index().resample('M').count().plot(y='Complaint Type')"
   ]
  },
  {
   "cell_type": "markdown",
   "metadata": {},
   "source": [
    "## What holiday(s) are most popular for illegal fireworks?"
   ]
  },
  {
   "cell_type": "code",
   "execution_count": 80,
   "metadata": {},
   "outputs": [
    {
     "data": {
      "text/plain": [
       "<matplotlib.axes._subplots.AxesSubplot at 0x13740a2e8>"
      ]
     },
     "execution_count": 80,
     "metadata": {},
     "output_type": "execute_result"
    },
    {
     "data": {
      "image/png": "[encoded data removed]",
      "text/plain": [
       "<matplotlib.figure.Figure at 0x1443edc50>"
      ]
     },
     "metadata": {},
     "output_type": "display_data"
    }
   ],
   "source": [
    "df[df['Complaint Type'] == 'Illegal Fireworks'].groupby(by=df[df['Complaint Type'] == 'Illegal Fireworks'].index.dayofyear).count().plot(y = 'Complaint Type')"
   ]
  },
  {
   "cell_type": "markdown",
   "metadata": {},
   "source": [
    "## Plot all kinds of noise complaints on top of each other"
   ]
  },
  {
   "cell_type": "code",
   "execution_count": 78,
   "metadata": {},
   "outputs": [
    {
     "data": {
      "text/plain": [
       "<matplotlib.axes._subplots.AxesSubplot at 0x14ac3bc18>"
      ]
     },
     "execution_count": 78,
     "metadata": {},
     "output_type": "execute_result"
    },
    {
     "data": {
      "image/png": "[encoded data removed]",
      "text/plain": [
       "<matplotlib.figure.Figure at 0x14ab2d5c0>"
      ]
     },
     "metadata": {},
     "output_type": "display_data"
    }
   ],
   "source": [
    "import matplotlib.pyplot as plt\n",
    "plt.style.use('ggplot')\n",
    "fig, ax = plt.subplots(figsize = (10, 5))\n",
    "\n",
    "df[df['Complaint Type'] == \"Noise - Residential\"].sort_index().resample(\"M\").count().plot(y=\"Complaint Type\", label = \"Residential\", ax=ax)\n",
    "df[df['Complaint Type'] == \"Noise - Street/Sidewalk\"].sort_index().resample(\"M\").count().plot(y=\"Complaint Type\", label = \"Sidewalk\", ax=ax)\n",
    "df[df['Complaint Type'] == \"Noise - Commercial\"].sort_index().resample(\"M\").count().plot(y=\"Complaint Type\", label = \"Commercial\", ax=ax)\n",
    "df[df['Complaint Type'] == \"Noise - Vehicle\"].sort_index().resample(\"M\").count().plot(y=\"Complaint Type\", label = \"Vehicle\", ax=ax)\n",
    "df[df['Complaint Type'] == \"Noise - Park\"].sort_index().resample(\"M\").count().plot(y=\"Complaint Type\", label = \"Park\", ax=ax)\n",
    "df[df['Complaint Type'] == \"Noise - House of Worship\"].sort_index().resample(\"M\").count().plot(y=\"Complaint Type\", label = \"House of Worship\", ax=ax)"
   ]
  },
  {
   "cell_type": "code",
   "execution_count": null,
   "metadata": {
    "collapsed": true
   },
   "outputs": [],
   "source": []
  }
 ],
 "metadata": {
  "kernelspec": {
   "display_name": "Python 3",
   "language": "python",
   "name": "python3"
  },
  "language_info": {
   "codemirror_mode": {
    "name": "ipython",
    "version": 3
   },
   "file_extension": ".py",
   "mimetype": "text/x-python",
   "name": "python",
   "nbconvert_exporter": "python",
   "pygments_lexer": "ipython3",
   "version": "3.6.1"
  }
 },
 "nbformat": 4,
 "nbformat_minor": 2
}
