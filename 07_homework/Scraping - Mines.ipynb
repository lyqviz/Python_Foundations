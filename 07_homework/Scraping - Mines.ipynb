{
 "cells": [
  {
   "cell_type": "markdown",
   "metadata": {},
   "source": [
    "# Mine Safety\n",
    "\n",
    "We're interested in [US mine safety](https://arlweb.msha.gov/drs/drshome.htm#MID), thank goodness we can search for these things."
   ]
  },
  {
   "cell_type": "markdown",
   "metadata": {},
   "source": [
    "## Preparation: Knowing your tags\n",
    "\n",
    "These questions are the same for every data set, and might not work exactly for yours.\n",
    "\n",
    "**Search for every operator with 'dirt' in their name, including abandoned mines.**"
   ]
  },
  {
   "cell_type": "markdown",
   "metadata": {},
   "source": [
    "### What is the tag and class name for every row of data?"
   ]
  },
  {
   "cell_type": "code",
   "execution_count": null,
   "metadata": {
    "collapsed": true
   },
   "outputs": [],
   "source": [
    "#tr"
   ]
  },
  {
   "cell_type": "markdown",
   "metadata": {},
   "source": [
    "### What is the tag and class name for every mine operator's name?"
   ]
  },
  {
   "cell_type": "code",
   "execution_count": 3,
   "metadata": {
    "collapsed": true
   },
   "outputs": [],
   "source": [
    "#td[2]"
   ]
  },
  {
   "cell_type": "markdown",
   "metadata": {},
   "source": [
    "### What is the tag and class name for every mine's name?"
   ]
  },
  {
   "cell_type": "code",
   "execution_count": null,
   "metadata": {
    "collapsed": true
   },
   "outputs": [],
   "source": [
    "#td[3]"
   ]
  },
  {
   "cell_type": "markdown",
   "metadata": {},
   "source": [
    "## Being lazy\n",
    "\n",
    "If you only needed these results, what would you do instead of scraping them?"
   ]
  },
  {
   "cell_type": "code",
   "execution_count": null,
   "metadata": {
    "collapsed": true
   },
   "outputs": [],
   "source": []
  },
  {
   "cell_type": "markdown",
   "metadata": {},
   "source": [
    "## Setup: Import what you'll need to scrape the page\n",
    "\n",
    "Use `requests`, not `urllib`."
   ]
  },
  {
   "cell_type": "code",
   "execution_count": 49,
   "metadata": {
    "collapsed": true
   },
   "outputs": [],
   "source": [
    "import requests\n",
    "from bs4 import BeautifulSoup"
   ]
  },
  {
   "cell_type": "markdown",
   "metadata": {},
   "source": [
    "## Try to scrape the page\n",
    "\n",
    "To test if you requested the page correctly, save the BeautifulSoup document as `doc` and run the code `doc.find_all('tr')[-1].text` to get the text of the last `<tr>` element.\n",
    "\n",
    "- If the result starts with **Total Number of Mines Found**, you were successful."
   ]
  },
  {
   "cell_type": "code",
   "execution_count": 50,
   "metadata": {
    "collapsed": true
   },
   "outputs": [],
   "source": [
    "data = {\n",
    "    'OperSearch':'dirt',\n",
    "    'Abandoned':'No',\n",
    "    'MineName':'',\n",
    "    'StateSearch':'None',\n",
    "    'CM':'All',\n",
    "    'x':'36',\n",
    "    'y':'4',\n",
    "    'MC':'Opersearch',\n",
    "}\n",
    "response = requests.post(\"https://arlweb.msha.gov/drs/ASP/OprNameStatesearch.asp\", data=data)\n",
    "doc = BeautifulSoup(response.text, 'html.parser')"
   ]
  },
  {
   "cell_type": "code",
   "execution_count": 51,
   "metadata": {},
   "outputs": [
    {
     "data": {
      "text/plain": [
       "<tr>\n",
       "<td bgcolor=\"#000000\" colspan=\"8\"><font style=\"FONT-SIZE:.75em; color:#FFF\"><b>Total Number of Mines Found:</b>  <b>19</b></font></td></tr>"
      ]
     },
     "execution_count": 51,
     "metadata": {},
     "output_type": "execute_result"
    }
   ],
   "source": [
    "doc.find_all('tr')[-1]"
   ]
  },
  {
   "cell_type": "markdown",
   "metadata": {},
   "source": [
    "## Actually scraping"
   ]
  },
  {
   "cell_type": "markdown",
   "metadata": {},
   "source": [
    "### Hopefully you know that each `tr` is supposed to be your data. What is the index of the first row element that is actually a result?\n",
    "\n",
    "`.text` will help you here."
   ]
  },
  {
   "cell_type": "code",
   "execution_count": 52,
   "metadata": {},
   "outputs": [
    {
     "data": {
      "text/plain": [
       "<tr>\n",
       "<td align=\"center\">\n",
       "<form action=\"/drs/ASP/BasicMineInfostatecounty.asp\" method=\"post\" name=\"search\">\n",
       "<input name=\"MineId\" type=\"hidden\" value=\"3503598\"/><font style=\"FONT-SIZE:.75em;\">3503598</font>\n",
       "</form></td>\n",
       "<td><font style=\"FONT-SIZE:.75em;\"><!-- DNT --><b>OR</b><!-- /DNT --> </font></td>\n",
       "<td><font style=\"FONT-SIZE:.75em;\"><!-- DNT --> Newberg Rock &amp; Dirt<!-- /DNT -->  </font></td>\n",
       "<td><font style=\"FONT-SIZE:.75em;\"><!-- DNT -->Newberg Rock &amp; Dirt<!-- /DNT --></font></td>\n",
       "<td align=\"center\"><font style=\"FONT-SIZE:.75em;\"><!-- DNT -->Surface             <!-- /DNT --></font></td>\n",
       "<td align=\"center\"><font style=\"FONT-SIZE:.75em;\"><!-- DNT -->M<!-- /DNT --> </font></td>\n",
       "<td><font style=\"FONT-SIZE:.75em;\">Active  </font></td>\n",
       "<td><font style=\"FONT-SIZE:.75em;\">Crushed, Broken Stone NEC  </font></td>\n",
       "<th bgcolor=\"#000000\"><input alt=\"More Information\" border=\"0\" name=\"submit\" src=\"/drs/images/moreinfo.jpg\" type=\"image\"/></th></tr>"
      ]
     },
     "execution_count": 52,
     "metadata": {},
     "output_type": "execute_result"
    }
   ],
   "source": [
    "doc.find_all('tr')[7]"
   ]
  },
  {
   "cell_type": "markdown",
   "metadata": {},
   "source": [
    "### Loop through each operator result, printing its name\n",
    "\n",
    "Use LIST SLICING to skip the non-data row(s)."
   ]
  },
  {
   "cell_type": "code",
   "execution_count": 57,
   "metadata": {},
   "outputs": [
    {
     "name": "stdout",
     "output_type": "stream",
     "text": [
      "Newberg Rock & Dirt\n",
      "AM Dirtworks & Aggregate Sales\n",
      "Dirt Company\n",
      "Dirt Con\n",
      "Dirt Doctor Inc\n",
      "Dirt Works\n",
      "Holley Dirt Company, Inc\n",
      "Krueger Brothers Gravel & Dirt\n",
      "M R Dirt\n",
      "M.R. Dirt Inc.\n",
      "P B Dirt Movers, Inc\n",
      "PB Dirt Movers\n",
      "PB Dirt Movers, Inc\n",
      "Prescott Dirt, LLC\n",
      "R D Blankenship Dirt Work LLC\n",
      "SIMPSON DIRTWORX LLC\n",
      "SIMPSON DIRTWORX LLC\n",
      "Spry's Dirt & Gravel, Inc.\n",
      "Vogt Dirt Service\n"
     ]
    }
   ],
   "source": [
    "for name in doc.find_all('tr')[7:-1]:\n",
    "    print(name.find_all('td')[2].text.strip())"
   ]
  },
  {
   "cell_type": "markdown",
   "metadata": {},
   "source": [
    "### Loop through each operator result, printing its ID\n",
    "\n",
    "There should be ONE code per row, and NO empty rows between them."
   ]
  },
  {
   "cell_type": "code",
   "execution_count": 58,
   "metadata": {},
   "outputs": [
    {
     "name": "stdout",
     "output_type": "stream",
     "text": [
      "3503598\n",
      "4801789\n",
      "5001797\n",
      "4608254\n",
      "2103723\n",
      "4104757\n",
      "0801306\n",
      "3901432\n",
      "3609624\n",
      "3609931\n",
      "1519799\n",
      "4407296\n",
      "4407270\n",
      "0203332\n",
      "2901986\n",
      "4300768\n",
      "4300776\n",
      "2302283\n",
      "2103518\n"
     ]
    }
   ],
   "source": [
    "for ID in doc.find_all('tr')[7:-1]:\n",
    "    print(ID.find_all('td')[0].text.strip())"
   ]
  },
  {
   "cell_type": "markdown",
   "metadata": {},
   "source": [
    "## Saving the results\n",
    "\n",
    "### Loop through each `tr` to create a list of dictionaries\n",
    "\n",
    "Each dictionary must contain\n",
    "\n",
    "- Operator ID\n",
    "- Operator name\n",
    "- Mine name\n",
    "- State\n",
    "- Mine type\n",
    "- Coal or metal\n",
    "- Status\n",
    "- Commodity\n",
    "\n",
    "Create a new dictionary for each row."
   ]
  },
  {
   "cell_type": "code",
   "execution_count": 74,
   "metadata": {
    "collapsed": true
   },
   "outputs": [],
   "source": [
    "dirt_mines = []\n",
    "for mine in doc.find_all('tr')[7:-1]:\n",
    "    dirt_mines.append({\n",
    "        'ID': mine.find_all('td')[0].text.strip(),\n",
    "        'State': mine.find_all('td')[1].text.strip(),\n",
    "        'Operator': mine.find_all('td')[2].text.strip(),\n",
    "        'Mine name': mine.find_all('td')[3].text.strip(),\n",
    "        'type': mine.find_all('td')[4].text.strip(),\n",
    "        'CM': mine.find_all('td')[5].text.strip(),\n",
    "        'Status': mine.find_all('td')[6].text.strip(),\n",
    "        'Commodity': mine.find_all('td')[7].text.strip(),\n",
    "    })"
   ]
  },
  {
   "cell_type": "markdown",
   "metadata": {},
   "source": [
    "### Save that to a CSV"
   ]
  },
  {
   "cell_type": "code",
   "execution_count": 75,
   "metadata": {
    "collapsed": true
   },
   "outputs": [],
   "source": [
    "import pandas as pd"
   ]
  },
  {
   "cell_type": "code",
   "execution_count": 76,
   "metadata": {
    "collapsed": true
   },
   "outputs": [],
   "source": [
    "df = pd.DataFrame(dirt_mines)\n",
    "df.to_csv('dirt_mines.csv', index=False)"
   ]
  },
  {
   "cell_type": "markdown",
   "metadata": {},
   "source": [
    "### Open the CSV file and examine the first few. Make sure you didn't save an extra weird unnamed column."
   ]
  },
  {
   "cell_type": "code",
   "execution_count": 77,
   "metadata": {},
   "outputs": [
    {
     "data": {
      "text/html": [
       "<div>\n",
       "<style>\n",
       "    .dataframe thead tr:only-child th {\n",
       "        text-align: right;\n",
       "    }\n",
       "\n",
       "    .dataframe thead th {\n",
       "        text-align: left;\n",
       "    }\n",
       "\n",
       "    .dataframe tbody tr th {\n",
       "        vertical-align: top;\n",
       "    }\n",
       "</style>\n",
       "<table border=\"1\" class=\"dataframe\">\n",
       "  <thead>\n",
       "    <tr style=\"text-align: right;\">\n",
       "      <th></th>\n",
       "      <th>CM</th>\n",
       "      <th>Commodity</th>\n",
       "      <th>ID</th>\n",
       "      <th>Mine name</th>\n",
       "      <th>Operator</th>\n",
       "      <th>State</th>\n",
       "      <th>Status</th>\n",
       "      <th>type</th>\n",
       "    </tr>\n",
       "  </thead>\n",
       "  <tbody>\n",
       "    <tr>\n",
       "      <th>0</th>\n",
       "      <td>M</td>\n",
       "      <td>Crushed, Broken Stone NEC</td>\n",
       "      <td>3503598</td>\n",
       "      <td>Newberg Rock &amp; Dirt</td>\n",
       "      <td>Newberg Rock &amp; Dirt</td>\n",
       "      <td>OR</td>\n",
       "      <td>Active</td>\n",
       "      <td>Surface</td>\n",
       "    </tr>\n",
       "    <tr>\n",
       "      <th>1</th>\n",
       "      <td>M</td>\n",
       "      <td>Construction Sand and Gravel</td>\n",
       "      <td>4801789</td>\n",
       "      <td>AM Dirtworks &amp; Aggregate Sales</td>\n",
       "      <td>AM Dirtworks &amp; Aggregate Sales</td>\n",
       "      <td>ND</td>\n",
       "      <td>Intermittent</td>\n",
       "      <td>Surface</td>\n",
       "    </tr>\n",
       "    <tr>\n",
       "      <th>2</th>\n",
       "      <td>M</td>\n",
       "      <td>Construction Sand and Gravel</td>\n",
       "      <td>5001797</td>\n",
       "      <td>Bush Pilot</td>\n",
       "      <td>Dirt Company</td>\n",
       "      <td>AK</td>\n",
       "      <td>Intermittent</td>\n",
       "      <td>Surface</td>\n",
       "    </tr>\n",
       "    <tr>\n",
       "      <th>3</th>\n",
       "      <td>M</td>\n",
       "      <td>Crushed, Broken Limestone NEC</td>\n",
       "      <td>4608254</td>\n",
       "      <td>Hog Lick Quarry</td>\n",
       "      <td>Dirt Con</td>\n",
       "      <td>WV</td>\n",
       "      <td>Temporarily Idled</td>\n",
       "      <td>Surface</td>\n",
       "    </tr>\n",
       "    <tr>\n",
       "      <th>4</th>\n",
       "      <td>M</td>\n",
       "      <td>Construction Sand and Gravel</td>\n",
       "      <td>2103723</td>\n",
       "      <td>Rock Lake Plant</td>\n",
       "      <td>Dirt Doctor Inc</td>\n",
       "      <td>MN</td>\n",
       "      <td>Intermittent</td>\n",
       "      <td>Surface</td>\n",
       "    </tr>\n",
       "    <tr>\n",
       "      <th>5</th>\n",
       "      <td>M</td>\n",
       "      <td>Construction Sand and Gravel</td>\n",
       "      <td>4104757</td>\n",
       "      <td>Portable #1</td>\n",
       "      <td>Dirt Works</td>\n",
       "      <td>TX</td>\n",
       "      <td>Intermittent</td>\n",
       "      <td>Surface</td>\n",
       "    </tr>\n",
       "    <tr>\n",
       "      <th>6</th>\n",
       "      <td>M</td>\n",
       "      <td>Sand, Common</td>\n",
       "      <td>801306</td>\n",
       "      <td>River Road Pit</td>\n",
       "      <td>Holley Dirt Company, Inc</td>\n",
       "      <td>FL</td>\n",
       "      <td>Active</td>\n",
       "      <td>Surface</td>\n",
       "    </tr>\n",
       "    <tr>\n",
       "      <th>7</th>\n",
       "      <td>M</td>\n",
       "      <td>Construction Sand and Gravel</td>\n",
       "      <td>3901432</td>\n",
       "      <td>PORTABLE SCREENER</td>\n",
       "      <td>Krueger Brothers Gravel &amp; Dirt</td>\n",
       "      <td>SD</td>\n",
       "      <td>Intermittent</td>\n",
       "      <td>Surface</td>\n",
       "    </tr>\n",
       "    <tr>\n",
       "      <th>8</th>\n",
       "      <td>M</td>\n",
       "      <td>Construction Sand and Gravel</td>\n",
       "      <td>3609624</td>\n",
       "      <td>Forbes Pit</td>\n",
       "      <td>M R Dirt</td>\n",
       "      <td>PA</td>\n",
       "      <td>Intermittent</td>\n",
       "      <td>Surface</td>\n",
       "    </tr>\n",
       "    <tr>\n",
       "      <th>9</th>\n",
       "      <td>M</td>\n",
       "      <td>Dimension Stone NEC</td>\n",
       "      <td>3609931</td>\n",
       "      <td>Camptown Quarry</td>\n",
       "      <td>M.R. Dirt Inc.</td>\n",
       "      <td>PA</td>\n",
       "      <td>Intermittent</td>\n",
       "      <td>Surface</td>\n",
       "    </tr>\n",
       "    <tr>\n",
       "      <th>10</th>\n",
       "      <td>C</td>\n",
       "      <td>Coal (Bituminous)</td>\n",
       "      <td>1519799</td>\n",
       "      <td>Fedscreek Surface</td>\n",
       "      <td>P B Dirt Movers, Inc</td>\n",
       "      <td>KY</td>\n",
       "      <td>Active</td>\n",
       "      <td>Surface</td>\n",
       "    </tr>\n",
       "    <tr>\n",
       "      <th>11</th>\n",
       "      <td>C</td>\n",
       "      <td>Coal (Bituminous)</td>\n",
       "      <td>4407296</td>\n",
       "      <td>Mine No. 6</td>\n",
       "      <td>PB Dirt Movers</td>\n",
       "      <td>VA</td>\n",
       "      <td>Temporarily Idled</td>\n",
       "      <td>Underground</td>\n",
       "    </tr>\n",
       "    <tr>\n",
       "      <th>12</th>\n",
       "      <td>C</td>\n",
       "      <td>Coal (Bituminous)</td>\n",
       "      <td>4407270</td>\n",
       "      <td>Surface Mine No. 1</td>\n",
       "      <td>PB Dirt Movers, Inc</td>\n",
       "      <td>VA</td>\n",
       "      <td>NonProducing</td>\n",
       "      <td>Surface</td>\n",
       "    </tr>\n",
       "    <tr>\n",
       "      <th>13</th>\n",
       "      <td>M</td>\n",
       "      <td>Construction Sand and Gravel</td>\n",
       "      <td>203332</td>\n",
       "      <td>Sandretto Drive</td>\n",
       "      <td>Prescott Dirt, LLC</td>\n",
       "      <td>AZ</td>\n",
       "      <td>Intermittent</td>\n",
       "      <td>Surface</td>\n",
       "    </tr>\n",
       "    <tr>\n",
       "      <th>14</th>\n",
       "      <td>M</td>\n",
       "      <td>Construction Sand and Gravel</td>\n",
       "      <td>2901986</td>\n",
       "      <td>R D BLANKENSHIP DIRT WORK</td>\n",
       "      <td>R D Blankenship Dirt Work LLC</td>\n",
       "      <td>NM</td>\n",
       "      <td>Active</td>\n",
       "      <td>Surface</td>\n",
       "    </tr>\n",
       "    <tr>\n",
       "      <th>15</th>\n",
       "      <td>M</td>\n",
       "      <td>Construction Sand and Gravel</td>\n",
       "      <td>4300768</td>\n",
       "      <td>Pettibone Jaw Crusher</td>\n",
       "      <td>SIMPSON DIRTWORX LLC</td>\n",
       "      <td>VT</td>\n",
       "      <td>Intermittent</td>\n",
       "      <td>Surface</td>\n",
       "    </tr>\n",
       "    <tr>\n",
       "      <th>16</th>\n",
       "      <td>M</td>\n",
       "      <td>Construction Sand and Gravel</td>\n",
       "      <td>4300776</td>\n",
       "      <td>Chieftan 1400</td>\n",
       "      <td>SIMPSON DIRTWORX LLC</td>\n",
       "      <td>VT</td>\n",
       "      <td>Intermittent</td>\n",
       "      <td>Surface</td>\n",
       "    </tr>\n",
       "    <tr>\n",
       "      <th>17</th>\n",
       "      <td>M</td>\n",
       "      <td>Construction Sand and Gravel</td>\n",
       "      <td>2302283</td>\n",
       "      <td>Mike's Money Pit</td>\n",
       "      <td>Spry's Dirt &amp; Gravel, Inc.</td>\n",
       "      <td>MO</td>\n",
       "      <td>Intermittent</td>\n",
       "      <td>Surface</td>\n",
       "    </tr>\n",
       "    <tr>\n",
       "      <th>18</th>\n",
       "      <td>M</td>\n",
       "      <td>Construction Sand and Gravel</td>\n",
       "      <td>2103518</td>\n",
       "      <td>Crusher</td>\n",
       "      <td>Vogt Dirt Service</td>\n",
       "      <td>MN</td>\n",
       "      <td>Intermittent</td>\n",
       "      <td>Surface</td>\n",
       "    </tr>\n",
       "  </tbody>\n",
       "</table>\n",
       "</div>"
      ],
      "text/plain": [
       "   CM                      Commodity       ID                       Mine name  \\\n",
       "0   M      Crushed, Broken Stone NEC  3503598             Newberg Rock & Dirt   \n",
       "1   M   Construction Sand and Gravel  4801789  AM Dirtworks & Aggregate Sales   \n",
       "2   M   Construction Sand and Gravel  5001797                      Bush Pilot   \n",
       "3   M  Crushed, Broken Limestone NEC  4608254                 Hog Lick Quarry   \n",
       "4   M   Construction Sand and Gravel  2103723                 Rock Lake Plant   \n",
       "5   M   Construction Sand and Gravel  4104757                     Portable #1   \n",
       "6   M                   Sand, Common   801306                  River Road Pit   \n",
       "7   M   Construction Sand and Gravel  3901432               PORTABLE SCREENER   \n",
       "8   M   Construction Sand and Gravel  3609624                      Forbes Pit   \n",
       "9   M            Dimension Stone NEC  3609931                 Camptown Quarry   \n",
       "10  C              Coal (Bituminous)  1519799               Fedscreek Surface   \n",
       "11  C              Coal (Bituminous)  4407296                      Mine No. 6   \n",
       "12  C              Coal (Bituminous)  4407270              Surface Mine No. 1   \n",
       "13  M   Construction Sand and Gravel   203332                 Sandretto Drive   \n",
       "14  M   Construction Sand and Gravel  2901986       R D BLANKENSHIP DIRT WORK   \n",
       "15  M   Construction Sand and Gravel  4300768           Pettibone Jaw Crusher   \n",
       "16  M   Construction Sand and Gravel  4300776                   Chieftan 1400   \n",
       "17  M   Construction Sand and Gravel  2302283                Mike's Money Pit   \n",
       "18  M   Construction Sand and Gravel  2103518                         Crusher   \n",
       "\n",
       "                          Operator State             Status         type  \n",
       "0              Newberg Rock & Dirt    OR             Active      Surface  \n",
       "1   AM Dirtworks & Aggregate Sales    ND       Intermittent      Surface  \n",
       "2                     Dirt Company    AK       Intermittent      Surface  \n",
       "3                         Dirt Con    WV  Temporarily Idled      Surface  \n",
       "4                  Dirt Doctor Inc    MN       Intermittent      Surface  \n",
       "5                       Dirt Works    TX       Intermittent      Surface  \n",
       "6         Holley Dirt Company, Inc    FL             Active      Surface  \n",
       "7   Krueger Brothers Gravel & Dirt    SD       Intermittent      Surface  \n",
       "8                         M R Dirt    PA       Intermittent      Surface  \n",
       "9                   M.R. Dirt Inc.    PA       Intermittent      Surface  \n",
       "10            P B Dirt Movers, Inc    KY             Active      Surface  \n",
       "11                  PB Dirt Movers    VA  Temporarily Idled  Underground  \n",
       "12             PB Dirt Movers, Inc    VA       NonProducing      Surface  \n",
       "13              Prescott Dirt, LLC    AZ       Intermittent      Surface  \n",
       "14   R D Blankenship Dirt Work LLC    NM             Active      Surface  \n",
       "15            SIMPSON DIRTWORX LLC    VT       Intermittent      Surface  \n",
       "16            SIMPSON DIRTWORX LLC    VT       Intermittent      Surface  \n",
       "17      Spry's Dirt & Gravel, Inc.    MO       Intermittent      Surface  \n",
       "18               Vogt Dirt Service    MN       Intermittent      Surface  "
      ]
     },
     "execution_count": 77,
     "metadata": {},
     "output_type": "execute_result"
    }
   ],
   "source": [
    "pd.read_csv('dirt_mines.csv')"
   ]
  },
  {
   "cell_type": "code",
   "execution_count": null,
   "metadata": {
    "collapsed": true
   },
   "outputs": [],
   "source": []
  }
 ],
 "metadata": {
  "kernelspec": {
   "display_name": "Python 3",
   "language": "python",
   "name": "python3"
  },
  "language_info": {
   "codemirror_mode": {
    "name": "ipython",
    "version": 3
   },
   "file_extension": ".py",
   "mimetype": "text/x-python",
   "name": "python",
   "nbconvert_exporter": "python",
   "pygments_lexer": "ipython3",
   "version": "3.5.2"
  }
 },
 "nbformat": 4,
 "nbformat_minor": 2
}
